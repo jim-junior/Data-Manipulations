{
 "cells": [
  {
   "cell_type": "code",
   "execution_count": 114,
   "id": "a19c5df2-bdfb-4164-95bf-ef294f36465c",
   "metadata": {},
   "outputs": [],
   "source": [
    "# Import dependencies\n",
    "import pandas as pd\n",
    "import numpy as np"
   ]
  },
  {
   "cell_type": "code",
   "execution_count": 115,
   "id": "8b228d41-400f-4734-bf50-f5f68e7e01b9",
   "metadata": {},
   "outputs": [],
   "source": [
    "# Universal Functions\n",
    "# Computation on NumPy arrays can be very fast, or it can be very slow.\n",
    "# Optimizing the computation of Vectorized operations is through use of NumPy's universal\n",
    "# function (ufuncs)\n",
    "\n",
    "# Python's default implementation, CPython does some operations very slowly.\n",
    "# other implementations have been attempted to address this such as PyPI project,\n",
    "# Cython, and Numba project."
   ]
  },
  {
   "cell_type": "code",
   "execution_count": 116,
   "id": "1463bae4-220b-4360-8957-4384abee083c",
   "metadata": {},
   "outputs": [
    {
     "data": {
      "text/plain": [
       "array([0.5       , 0.2       , 0.125     , 0.16666667, 0.125     ])"
      ]
     },
     "execution_count": 116,
     "metadata": {},
     "output_type": "execute_result"
    }
   ],
   "source": [
    "# Timing Code\n",
    "import numpy as np\n",
    "rng = np.random.default_rng(seed=1000)\n",
    "\n",
    "def compute_reciprocals(values):\n",
    "    output = np.empty(len(values))\n",
    "    for i in range(len(values)):\n",
    "        output[i] = 1.0 / values[i]\n",
    "    return output\n",
    "\n",
    "values = rng.integers(1, 10, size=5)\n",
    "compute_reciprocals(values)"
   ]
  },
  {
   "cell_type": "code",
   "execution_count": 117,
   "id": "db8926cb-8946-418d-9d6e-8f35f4de508d",
   "metadata": {},
   "outputs": [
    {
     "name": "stdout",
     "output_type": "stream",
     "text": [
      "1.46 s ± 52.1 ms per loop (mean ± std. dev. of 7 runs, 1 loop each)\n"
     ]
    }
   ],
   "source": [
    "# This implementation probably feels fairly natural.\n",
    "bigArray = rng.integers(1, 100, size=1_000_000)\n",
    "%timeit compute_reciprocals(bigArray)"
   ]
  },
  {
   "cell_type": "code",
   "execution_count": 118,
   "id": "924c2ce1-9f92-4aca-868c-c3052cacbbde",
   "metadata": {},
   "outputs": [
    {
     "data": {
      "text/plain": [
       "array([0.0212766 , 0.04761905, 0.04761905, ..., 0.02173913, 0.01470588,\n",
       "       0.1       ])"
      ]
     },
     "execution_count": 118,
     "metadata": {},
     "output_type": "execute_result"
    }
   ],
   "source": [
    "compute_reciprocals(bigArray)"
   ]
  },
  {
   "cell_type": "code",
   "execution_count": 119,
   "id": "33603ac8-5527-4ba6-8046-57bd6022079d",
   "metadata": {},
   "outputs": [
    {
     "data": {
      "text/plain": [
       "array([0.5       , 0.2       , 0.125     , 0.16666667, 0.125     ])"
      ]
     },
     "execution_count": 119,
     "metadata": {},
     "output_type": "execute_result"
    }
   ],
   "source": [
    "compute_reciprocals(values)"
   ]
  },
  {
   "cell_type": "code",
   "execution_count": 120,
   "id": "6a705838-9ae3-48df-ae10-d23a1ec897d2",
   "metadata": {},
   "outputs": [
    {
     "name": "stdout",
     "output_type": "stream",
     "text": [
      "[0.5        0.2        0.125      0.16666667 0.125     ]\n"
     ]
    }
   ],
   "source": [
    "print(1.0/values)"
   ]
  },
  {
   "cell_type": "code",
   "execution_count": 121,
   "id": "dc3f927c-2783-49f2-be7f-cb45d4c5d2d6",
   "metadata": {},
   "outputs": [
    {
     "name": "stdout",
     "output_type": "stream",
     "text": [
      "3.33 ms ± 168 µs per loop (mean ± std. dev. of 7 runs, 100 loops each)\n"
     ]
    }
   ],
   "source": [
    "%timeit (1.0/bigArray)"
   ]
  },
  {
   "cell_type": "code",
   "execution_count": 122,
   "id": "02ced4f7-42b8-4ddf-81c6-e0377cca2d0d",
   "metadata": {},
   "outputs": [],
   "source": [
    "# Looking at the execution time for our big array, we see that it completes orders of\n",
    "# magnitude faster than the Python loop:\n",
    "\n",
    "# Vectorized operations in NumPy are implemented via ufuncs, whose main purpose\n",
    "# is to quickly execute operations on values in NumPy arrays."
   ]
  },
  {
   "cell_type": "code",
   "execution_count": 123,
   "id": "68acf5b2-24c6-4055-aee8-6712d0b7b61b",
   "metadata": {},
   "outputs": [
    {
     "data": {
      "text/plain": [
       "array([0.        , 0.5       , 0.66666667, 0.75      , 0.8       ])"
      ]
     },
     "execution_count": 123,
     "metadata": {},
     "output_type": "execute_result"
    }
   ],
   "source": [
    "# operation between arrays\n",
    "np.arange(5) / np.arange(1, 6)"
   ]
  },
  {
   "cell_type": "code",
   "execution_count": 124,
   "id": "9c9f33d7-0ee4-4115-9336-83546932689b",
   "metadata": {},
   "outputs": [
    {
     "data": {
      "text/plain": [
       "array([[  1,   2,   4],\n",
       "       [  8,  16,  32],\n",
       "       [ 64, 128, 256]])"
      ]
     },
     "execution_count": 124,
     "metadata": {},
     "output_type": "execute_result"
    }
   ],
   "source": [
    "# N-dimensions\n",
    "x = np.arange(9).reshape((3, 3))\n",
    "2**x"
   ]
  },
  {
   "cell_type": "code",
   "execution_count": 125,
   "id": "c06edf9d-61cf-4daa-955c-1947762ea680",
   "metadata": {},
   "outputs": [
    {
     "name": "stdout",
     "output_type": "stream",
     "text": [
      "[ 0. 10. 20. 30. 40.]\n"
     ]
    }
   ],
   "source": [
    "x = np.arange(5)\n",
    "y = np.empty(5)\n",
    "np.multiply(x, 10, out=y)\n",
    "print(y)"
   ]
  },
  {
   "cell_type": "code",
   "execution_count": 126,
   "id": "99be8c1c-4f30-4893-93bb-ad7160e4dc6c",
   "metadata": {},
   "outputs": [
    {
     "data": {
      "text/plain": [
       "array([ 1.,  0.,  2.,  0.,  4.,  0.,  8.,  0., 16.,  0.])"
      ]
     },
     "execution_count": 126,
     "metadata": {},
     "output_type": "execute_result"
    }
   ],
   "source": [
    "y = np.zeros(10)\n",
    "np.power(2, x, out=y[::2])\n",
    "y"
   ]
  },
  {
   "cell_type": "code",
   "execution_count": 127,
   "id": "3e6d2432-1a45-49c9-b72f-7ab919d7af0d",
   "metadata": {},
   "outputs": [],
   "source": [
    "y[::2] = 2**x"
   ]
  },
  {
   "cell_type": "code",
   "execution_count": 128,
   "id": "e17ae9c7-4aff-4d12-914f-589355aaa39f",
   "metadata": {},
   "outputs": [
    {
     "data": {
      "text/plain": [
       "array([ 1.,  0.,  2.,  0.,  4.,  0.,  8.,  0., 16.,  0.])"
      ]
     },
     "execution_count": 128,
     "metadata": {},
     "output_type": "execute_result"
    }
   ],
   "source": [
    "y"
   ]
  },
  {
   "cell_type": "code",
   "execution_count": 129,
   "id": "e2d87287-ef14-4392-a475-710dfe94d9d8",
   "metadata": {},
   "outputs": [],
   "source": [
    "# Pandas inherits element-wise (such as addition, subtraction, multiplication etc) and unary operations (such as\n",
    "#  negation, trigomentry, exponential, etc ...) from NumPy.\n",
    "\n",
    "# For unary operations, Pandas preserves index and column labels.\n",
    "# For binary operations, Pandas will automatically align indices when pssing\n",
    "# the objects to the ufunc."
   ]
  },
  {
   "cell_type": "code",
   "execution_count": 130,
   "id": "af7e9137-151c-4e0c-95b8-4f5b45e6d3b4",
   "metadata": {},
   "outputs": [
    {
     "data": {
      "text/plain": [
       "0    0\n",
       "1    7\n",
       "2    6\n",
       "3    4\n",
       "dtype: int64"
      ]
     },
     "execution_count": 130,
     "metadata": {},
     "output_type": "execute_result"
    }
   ],
   "source": [
    "# Unfuncs: Index Preservation\n",
    "rng = np.random.default_rng(42)\n",
    "ser = pd.Series(rng.integers(0, 10, 4))\n",
    "ser"
   ]
  },
  {
   "cell_type": "code",
   "execution_count": 131,
   "id": "6efb8b5c-f167-4135-8169-746bf76bf3a6",
   "metadata": {},
   "outputs": [
    {
     "data": {
      "text/html": [
       "<div>\n",
       "<style scoped>\n",
       "    .dataframe tbody tr th:only-of-type {\n",
       "        vertical-align: middle;\n",
       "    }\n",
       "\n",
       "    .dataframe tbody tr th {\n",
       "        vertical-align: top;\n",
       "    }\n",
       "\n",
       "    .dataframe thead th {\n",
       "        text-align: right;\n",
       "    }\n",
       "</style>\n",
       "<table border=\"1\" class=\"dataframe\">\n",
       "  <thead>\n",
       "    <tr style=\"text-align: right;\">\n",
       "      <th></th>\n",
       "      <th>A</th>\n",
       "      <th>B</th>\n",
       "      <th>C</th>\n",
       "      <th>D</th>\n",
       "    </tr>\n",
       "  </thead>\n",
       "  <tbody>\n",
       "    <tr>\n",
       "      <th>0</th>\n",
       "      <td>4</td>\n",
       "      <td>8</td>\n",
       "      <td>0</td>\n",
       "      <td>6</td>\n",
       "    </tr>\n",
       "    <tr>\n",
       "      <th>1</th>\n",
       "      <td>2</td>\n",
       "      <td>0</td>\n",
       "      <td>5</td>\n",
       "      <td>9</td>\n",
       "    </tr>\n",
       "    <tr>\n",
       "      <th>2</th>\n",
       "      <td>7</td>\n",
       "      <td>7</td>\n",
       "      <td>7</td>\n",
       "      <td>7</td>\n",
       "    </tr>\n",
       "  </tbody>\n",
       "</table>\n",
       "</div>"
      ],
      "text/plain": [
       "   A  B  C  D\n",
       "0  4  8  0  6\n",
       "1  2  0  5  9\n",
       "2  7  7  7  7"
      ]
     },
     "execution_count": 131,
     "metadata": {},
     "output_type": "execute_result"
    }
   ],
   "source": [
    "df = pd.DataFrame(rng.integers(0, 10, (3, 4)),\n",
    "                  columns=['A', 'B', 'C', 'D'])\n",
    "df"
   ]
  },
  {
   "cell_type": "code",
   "execution_count": 132,
   "id": "e906805c-225b-45d5-a20f-1735e1a44c99",
   "metadata": {},
   "outputs": [
    {
     "data": {
      "text/plain": [
       "0       1.000000\n",
       "1    1096.633158\n",
       "2     403.428793\n",
       "3      54.598150\n",
       "dtype: float64"
      ]
     },
     "execution_count": 132,
     "metadata": {},
     "output_type": "execute_result"
    }
   ],
   "source": [
    "# Applying a NumPy ufunc\n",
    "np.exp(ser)"
   ]
  },
  {
   "cell_type": "code",
   "execution_count": 133,
   "id": "7ad9ddff-98db-4bc7-946f-d22fd5d7c730",
   "metadata": {},
   "outputs": [
    {
     "data": {
      "text/html": [
       "<div>\n",
       "<style scoped>\n",
       "    .dataframe tbody tr th:only-of-type {\n",
       "        vertical-align: middle;\n",
       "    }\n",
       "\n",
       "    .dataframe tbody tr th {\n",
       "        vertical-align: top;\n",
       "    }\n",
       "\n",
       "    .dataframe thead th {\n",
       "        text-align: right;\n",
       "    }\n",
       "</style>\n",
       "<table border=\"1\" class=\"dataframe\">\n",
       "  <thead>\n",
       "    <tr style=\"text-align: right;\">\n",
       "      <th></th>\n",
       "      <th>A</th>\n",
       "      <th>B</th>\n",
       "      <th>C</th>\n",
       "      <th>D</th>\n",
       "    </tr>\n",
       "  </thead>\n",
       "  <tbody>\n",
       "    <tr>\n",
       "      <th>0</th>\n",
       "      <td>1.224647e-16</td>\n",
       "      <td>-2.449294e-16</td>\n",
       "      <td>0.000000</td>\n",
       "      <td>-1.000000</td>\n",
       "    </tr>\n",
       "    <tr>\n",
       "      <th>1</th>\n",
       "      <td>1.000000e+00</td>\n",
       "      <td>0.000000e+00</td>\n",
       "      <td>-0.707107</td>\n",
       "      <td>0.707107</td>\n",
       "    </tr>\n",
       "    <tr>\n",
       "      <th>2</th>\n",
       "      <td>-7.071068e-01</td>\n",
       "      <td>-7.071068e-01</td>\n",
       "      <td>-0.707107</td>\n",
       "      <td>-0.707107</td>\n",
       "    </tr>\n",
       "  </tbody>\n",
       "</table>\n",
       "</div>"
      ],
      "text/plain": [
       "              A             B         C         D\n",
       "0  1.224647e-16 -2.449294e-16  0.000000 -1.000000\n",
       "1  1.000000e+00  0.000000e+00 -0.707107  0.707107\n",
       "2 -7.071068e-01 -7.071068e-01 -0.707107 -0.707107"
      ]
     },
     "execution_count": 133,
     "metadata": {},
     "output_type": "execute_result"
    }
   ],
   "source": [
    "np.sin(df*np.pi / 4)"
   ]
  },
  {
   "cell_type": "code",
   "execution_count": 134,
   "id": "a0dc3559-b831-4990-95b2-4d053bd7b095",
   "metadata": {},
   "outputs": [
    {
     "data": {
      "text/plain": [
       "Apac          10251.0\n",
       "Arua          13234.0\n",
       "Bundibugyo     1356.0\n",
       "Bushenyi          NaN\n",
       "Gulu           6066.0\n",
       "dtype: float64"
      ]
     },
     "execution_count": 134,
     "metadata": {},
     "output_type": "execute_result"
    }
   ],
   "source": [
    "# Index alignment\n",
    "# Pandas align inputs in the process of performing the operation\n",
    "# Convenient when working with incomplete data\n",
    "\n",
    "# General Elections 1996\n",
    "votes = pd.Series(\n",
    "    {'Apac': 169_583,\n",
    "     'Arua': 214_680,\n",
    "     'Bundibugyo': 53_819,\n",
    "     'Gulu': 129_200,\n",
    "    }\n",
    ")\n",
    "\n",
    "validVotes = pd.Series(\n",
    "    {'Apac': 159_332,\n",
    "     'Arua': 201_446,\n",
    "     'Bundibugyo': 52_463,\n",
    "     'Bushenyi': 248_730,\n",
    "     'Gulu': 123_134,\n",
    "    }\n",
    ")\n",
    "\n",
    "invalidVotes = votes - validVotes\n",
    "invalidVotes    "
   ]
  },
  {
   "cell_type": "code",
   "execution_count": 135,
   "id": "a888f2f9-3a81-4b7b-b265-05e59a0f6a50",
   "metadata": {},
   "outputs": [
    {
     "data": {
      "text/plain": [
       "Apac          10251.0\n",
       "Arua          13234.0\n",
       "Bundibugyo     1356.0\n",
       "Bushenyi          NaN\n",
       "Gulu           6066.0\n",
       "dtype: float64"
      ]
     },
     "execution_count": 135,
     "metadata": {},
     "output_type": "execute_result"
    }
   ],
   "source": [
    "# Compute percentages\n",
    "# Using NumPy ufuncs\n",
    "invalidVotes = np.subtract(votes, validVotes)\n",
    "invalidVotes"
   ]
  },
  {
   "cell_type": "code",
   "execution_count": 136,
   "id": "467f7998-cd79-44aa-b0a5-6e27f0c9d6a3",
   "metadata": {},
   "outputs": [],
   "source": [
    "# The resulting array contains the union of indices of the two input arrays\n",
    "# NaN values are used for indices that are not in both arrays\n",
    "# "
   ]
  },
  {
   "cell_type": "code",
   "execution_count": 137,
   "id": "c5a8204c-8532-4de3-81f5-c9f9d803a753",
   "metadata": {},
   "outputs": [],
   "source": [
    "# Timing operations\n",
    "# This is essential to optimize operations\n",
    "# READ MORE ABOUT Opitimization of operations with Numba"
   ]
  },
  {
   "cell_type": "code",
   "execution_count": 138,
   "id": "0edd30a3-2e44-4a1c-bc60-a730a2668020",
   "metadata": {},
   "outputs": [
    {
     "name": "stdout",
     "output_type": "stream",
     "text": [
      "288 µs ± 14.7 µs per loop (mean ± std. dev. of 7 runs, 1,000 loops each)\n"
     ]
    }
   ],
   "source": [
    "%timeit np.subtract(votes, validVotes)"
   ]
  },
  {
   "cell_type": "code",
   "execution_count": 139,
   "id": "ff51ded2-5d1e-4bfd-8592-a99a05c59645",
   "metadata": {},
   "outputs": [
    {
     "name": "stdout",
     "output_type": "stream",
     "text": [
      "275 µs ± 16.5 µs per loop (mean ± std. dev. of 7 runs, 1,000 loops each)\n"
     ]
    }
   ],
   "source": [
    "%timeit votes - validVotes"
   ]
  },
  {
   "cell_type": "code",
   "execution_count": 140,
   "id": "0a40075e-8238-48e4-b783-2d3d5136f679",
   "metadata": {},
   "outputs": [
    {
     "name": "stdout",
     "output_type": "stream",
     "text": [
      "269 µs ± 21.5 µs per loop (mean ± std. dev. of 7 runs, 1,000 loops each)\n"
     ]
    }
   ],
   "source": [
    "%timeit votes.sub(validVotes,)"
   ]
  },
  {
   "cell_type": "code",
   "execution_count": 157,
   "id": "c0691314-22e6-41db-a103-f331eb889aa2",
   "metadata": {},
   "outputs": [
    {
     "data": {
      "text/html": [
       "<div>\n",
       "<style scoped>\n",
       "    .dataframe tbody tr th:only-of-type {\n",
       "        vertical-align: middle;\n",
       "    }\n",
       "\n",
       "    .dataframe tbody tr th {\n",
       "        vertical-align: top;\n",
       "    }\n",
       "\n",
       "    .dataframe thead th {\n",
       "        text-align: right;\n",
       "    }\n",
       "</style>\n",
       "<table border=\"1\" class=\"dataframe\">\n",
       "  <thead>\n",
       "    <tr style=\"text-align: right;\">\n",
       "      <th></th>\n",
       "      <th>Mayanja</th>\n",
       "      <th>Kaguta</th>\n",
       "      <th>Semwogerere</th>\n",
       "    </tr>\n",
       "  </thead>\n",
       "  <tbody>\n",
       "    <tr>\n",
       "      <th>Apac</th>\n",
       "      <td>2013</td>\n",
       "      <td>35532</td>\n",
       "      <td>121787</td>\n",
       "    </tr>\n",
       "    <tr>\n",
       "      <th>Arua</th>\n",
       "      <td>7252</td>\n",
       "      <td>34769</td>\n",
       "      <td>159425</td>\n",
       "    </tr>\n",
       "    <tr>\n",
       "      <th>Bundibugyo</th>\n",
       "      <td>322</td>\n",
       "      <td>51255</td>\n",
       "      <td>886</td>\n",
       "    </tr>\n",
       "    <tr>\n",
       "      <th>Bushenyi</th>\n",
       "      <td>1884</td>\n",
       "      <td>240307</td>\n",
       "      <td>6539</td>\n",
       "    </tr>\n",
       "  </tbody>\n",
       "</table>\n",
       "</div>"
      ],
      "text/plain": [
       "            Mayanja  Kaguta  Semwogerere\n",
       "Apac           2013   35532       121787\n",
       "Arua           7252   34769       159425\n",
       "Bundibugyo      322   51255          886\n",
       "Bushenyi       1884  240307         6539"
      ]
     },
     "execution_count": 157,
     "metadata": {},
     "output_type": "execute_result"
    }
   ],
   "source": [
    "# Index Alignment in DataFrames\n",
    "# 1996 Elections\n",
    "index=['Apac', 'Arua', 'Bundibugyo', 'Bushenyi']\n",
    "# Candidates\n",
    "candidates = pd.DataFrame(\n",
    "    data={'Mayanja': [2_013, 7_252, 322, 1_884],\n",
    "          'Kaguta': [35_532, 34_769, 51_255, 240_307],\n",
    "          'Semwogerere': [121_787, 159_425, 886, 6_539]\n",
    "         },\n",
    "    index=index\n",
    ")\n",
    "candidates"
   ]
  },
  {
   "cell_type": "code",
   "execution_count": 168,
   "id": "158da1e6-fcba-499a-a933-0739ec078f77",
   "metadata": {},
   "outputs": [
    {
     "data": {
      "text/html": [
       "<div>\n",
       "<style scoped>\n",
       "    .dataframe tbody tr th:only-of-type {\n",
       "        vertical-align: middle;\n",
       "    }\n",
       "\n",
       "    .dataframe tbody tr th {\n",
       "        vertical-align: top;\n",
       "    }\n",
       "\n",
       "    .dataframe thead th {\n",
       "        text-align: right;\n",
       "    }\n",
       "</style>\n",
       "<table border=\"1\" class=\"dataframe\">\n",
       "  <thead>\n",
       "    <tr style=\"text-align: right;\">\n",
       "      <th></th>\n",
       "      <th>Mayanja</th>\n",
       "      <th>Kaguta</th>\n",
       "      <th>Semwogerere</th>\n",
       "    </tr>\n",
       "  </thead>\n",
       "  <tbody>\n",
       "    <tr>\n",
       "      <th>Apac</th>\n",
       "      <td>0</td>\n",
       "      <td>33519</td>\n",
       "      <td>119774</td>\n",
       "    </tr>\n",
       "    <tr>\n",
       "      <th>Arua</th>\n",
       "      <td>0</td>\n",
       "      <td>27517</td>\n",
       "      <td>152173</td>\n",
       "    </tr>\n",
       "    <tr>\n",
       "      <th>Bundibugyo</th>\n",
       "      <td>0</td>\n",
       "      <td>50933</td>\n",
       "      <td>564</td>\n",
       "    </tr>\n",
       "    <tr>\n",
       "      <th>Bushenyi</th>\n",
       "      <td>0</td>\n",
       "      <td>238423</td>\n",
       "      <td>4655</td>\n",
       "    </tr>\n",
       "  </tbody>\n",
       "</table>\n",
       "</div>"
      ],
      "text/plain": [
       "            Mayanja  Kaguta  Semwogerere\n",
       "Apac              0   33519       119774\n",
       "Arua              0   27517       152173\n",
       "Bundibugyo        0   50933          564\n",
       "Bushenyi          0  238423         4655"
      ]
     },
     "execution_count": 168,
     "metadata": {},
     "output_type": "execute_result"
    }
   ],
   "source": [
    "# Ufunc: Operations between DataFrames and Series\n",
    "# Votes each candidate got above Mayanja's\n",
    "candidates.sub(candidates['Mayanja'],\n",
    "                    axis=0)"
   ]
  },
  {
   "cell_type": "code",
   "execution_count": 174,
   "id": "953e5899-e87d-4efe-8e60-8d59816cd075",
   "metadata": {},
   "outputs": [
    {
     "data": {
      "text/plain": [
       "Mayanja          2013\n",
       "Kaguta          35532\n",
       "Semwogerere    121787\n",
       "Name: Apac, dtype: int64"
      ]
     },
     "execution_count": 174,
     "metadata": {},
     "output_type": "execute_result"
    }
   ],
   "source": [
    "# Indices the first column\n",
    "candidates.iloc[0]"
   ]
  },
  {
   "cell_type": "code",
   "execution_count": 176,
   "id": "3819dc4c-93e9-43f1-9d0b-0812b7dc5867",
   "metadata": {},
   "outputs": [
    {
     "data": {
      "text/html": [
       "<div>\n",
       "<style scoped>\n",
       "    .dataframe tbody tr th:only-of-type {\n",
       "        vertical-align: middle;\n",
       "    }\n",
       "\n",
       "    .dataframe tbody tr th {\n",
       "        vertical-align: top;\n",
       "    }\n",
       "\n",
       "    .dataframe thead th {\n",
       "        text-align: right;\n",
       "    }\n",
       "</style>\n",
       "<table border=\"1\" class=\"dataframe\">\n",
       "  <thead>\n",
       "    <tr style=\"text-align: right;\">\n",
       "      <th></th>\n",
       "      <th>Mayanja</th>\n",
       "      <th>Kaguta</th>\n",
       "      <th>Semwogerere</th>\n",
       "    </tr>\n",
       "  </thead>\n",
       "  <tbody>\n",
       "    <tr>\n",
       "      <th>Apac</th>\n",
       "      <td>0</td>\n",
       "      <td>0</td>\n",
       "      <td>0</td>\n",
       "    </tr>\n",
       "    <tr>\n",
       "      <th>Arua</th>\n",
       "      <td>5239</td>\n",
       "      <td>-763</td>\n",
       "      <td>37638</td>\n",
       "    </tr>\n",
       "    <tr>\n",
       "      <th>Bundibugyo</th>\n",
       "      <td>-1691</td>\n",
       "      <td>15723</td>\n",
       "      <td>-120901</td>\n",
       "    </tr>\n",
       "    <tr>\n",
       "      <th>Bushenyi</th>\n",
       "      <td>-129</td>\n",
       "      <td>204775</td>\n",
       "      <td>-115248</td>\n",
       "    </tr>\n",
       "  </tbody>\n",
       "</table>\n",
       "</div>"
      ],
      "text/plain": [
       "            Mayanja  Kaguta  Semwogerere\n",
       "Apac              0       0            0\n",
       "Arua           5239    -763        37638\n",
       "Bundibugyo    -1691   15723      -120901\n",
       "Bushenyi       -129  204775      -115248"
      ]
     },
     "execution_count": 176,
     "metadata": {},
     "output_type": "execute_result"
    }
   ],
   "source": [
    "candidates - candidates.iloc[0]"
   ]
  },
  {
   "cell_type": "code",
   "execution_count": null,
   "id": "72c7c688-408e-4d5d-84fb-6157fdc9a00a",
   "metadata": {},
   "outputs": [],
   "source": [
    "# These operations preserve indices and columns\n",
    "# NOTE: Contrast with NumPy Arrays"
   ]
  }
 ],
 "metadata": {
  "kernelspec": {
   "display_name": "Python 3 (ipykernel)",
   "language": "python",
   "name": "python3"
  },
  "language_info": {
   "codemirror_mode": {
    "name": "ipython",
    "version": 3
   },
   "file_extension": ".py",
   "mimetype": "text/x-python",
   "name": "python",
   "nbconvert_exporter": "python",
   "pygments_lexer": "ipython3",
   "version": "3.9.7"
  }
 },
 "nbformat": 4,
 "nbformat_minor": 5
}
