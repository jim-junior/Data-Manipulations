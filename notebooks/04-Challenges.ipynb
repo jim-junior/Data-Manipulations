{
 "cells": [
  {
   "cell_type": "code",
   "execution_count": 97,
   "id": "d960ef98-ae6a-4989-a87e-236162d62c96",
   "metadata": {},
   "outputs": [],
   "source": [
    "# Looking at the elections Dataset\n",
    "# Tasks\n",
    "# Preprocess the election data ready for analysis"
   ]
  }
 ],
 "metadata": {
  "kernelspec": {
   "display_name": "Python 3 (ipykernel)",
   "language": "python",
   "name": "python3"
  },
  "language_info": {
   "codemirror_mode": {
    "name": "ipython",
    "version": 3
   },
   "file_extension": ".py",
   "mimetype": "text/x-python",
   "name": "python",
   "nbconvert_exporter": "python",
   "pygments_lexer": "ipython3",
   "version": "3.9.7"
  }
 },
 "nbformat": 4,
 "nbformat_minor": 5
}
