{
 "cells": [
  {
   "cell_type": "markdown",
   "id": "a4fb337c-0d6b-4c2a-8b33-17f4a8264d8f",
   "metadata": {},
   "source": [
    "<h3>Data Indexing</h3>"
   ]
  },
  {
   "cell_type": "code",
   "execution_count": 2,
   "id": "3743b901-4c8b-457e-9c47-9683181b692b",
   "metadata": {},
   "outputs": [],
   "source": [
    "# import dependences\n",
    "import pandas as pd\n",
    "import numpy as np"
   ]
  },
  {
   "cell_type": "code",
   "execution_count": 4,
   "id": "e2d9ef1c-e82d-4ada-ab85-06350167f6b6",
   "metadata": {},
   "outputs": [
    {
     "data": {
      "text/plain": [
       "a    0.24\n",
       "b    0.50\n",
       "c    0.54\n",
       "d    2.00\n",
       "dtype: float64"
      ]
     },
     "execution_count": 4,
     "metadata": {},
     "output_type": "execute_result"
    }
   ],
   "source": [
    "# Data Selections in Series\n",
    "# A Series object acts in many ways like a one-dimensional NumPy array, and in\n",
    "# many ways like a standard Python dictionary\n",
    "\n",
    "# Series as a Dictionary\n",
    "data = pd.Series(\n",
    "    [0.24, .5, .54, 2.0],\n",
    "    index = ['a', 'b', 'c', 'd']\n",
    ")\n",
    "data"
   ]
  },
  {
   "cell_type": "code",
   "execution_count": 5,
   "id": "6f663198-1163-4b8e-8849-7ea249848e83",
   "metadata": {},
   "outputs": [
    {
     "data": {
      "text/plain": [
       "np.float64(2.0)"
      ]
     },
     "execution_count": 5,
     "metadata": {},
     "output_type": "execute_result"
    }
   ],
   "source": [
    "data['d']"
   ]
  },
  {
   "cell_type": "code",
   "execution_count": 7,
   "id": "b3420b86-3164-4a33-b4c7-4e5f83ceaea8",
   "metadata": {},
   "outputs": [
    {
     "data": {
      "text/plain": [
       "True"
      ]
     },
     "execution_count": 7,
     "metadata": {},
     "output_type": "execute_result"
    }
   ],
   "source": [
    "# Using dictionary-like expressions\n",
    "'a' in data"
   ]
  },
  {
   "cell_type": "code",
   "execution_count": 8,
   "id": "76a9444b-3086-404a-8b10-0521bb62a0a5",
   "metadata": {},
   "outputs": [
    {
     "data": {
      "text/plain": [
       "np.float64(0.24)"
      ]
     },
     "execution_count": 8,
     "metadata": {},
     "output_type": "execute_result"
    }
   ],
   "source": [
    "data.a"
   ]
  },
  {
   "cell_type": "code",
   "execution_count": 9,
   "id": "810ef8b9-7c51-4292-98f4-82c0ff5a939e",
   "metadata": {},
   "outputs": [
    {
     "data": {
      "text/plain": [
       "Index(['a', 'b', 'c', 'd'], dtype='object')"
      ]
     },
     "execution_count": 9,
     "metadata": {},
     "output_type": "execute_result"
    }
   ],
   "source": [
    "data.keys()"
   ]
  },
  {
   "cell_type": "code",
   "execution_count": 12,
   "id": "990c32a8-8f50-4217-a664-28a78a86b0a7",
   "metadata": {},
   "outputs": [
    {
     "data": {
      "text/plain": [
       "[('a', 0.24), ('b', 0.5), ('c', 0.54), ('d', 2.0)]"
      ]
     },
     "execution_count": 12,
     "metadata": {},
     "output_type": "execute_result"
    }
   ],
   "source": [
    "list(data.items())"
   ]
  },
  {
   "cell_type": "code",
   "execution_count": 13,
   "id": "c987e575-ce6e-4ba5-adf4-26960db80772",
   "metadata": {},
   "outputs": [
    {
     "data": {
      "text/plain": [
       "a     0.24\n",
       "b     0.50\n",
       "c     0.54\n",
       "d    90.00\n",
       "dtype: float64"
      ]
     },
     "execution_count": 13,
     "metadata": {},
     "output_type": "execute_result"
    }
   ],
   "source": [
    "# Modifying series objects with a dictionary-like syntax\n",
    "data.d = 90\n",
    "data"
   ]
  },
  {
   "cell_type": "code",
   "execution_count": 16,
   "id": "997f8a3a-75e3-4561-9e23-02c3f9e5949e",
   "metadata": {},
   "outputs": [
    {
     "data": {
      "text/plain": [
       "a     0.34\n",
       "b     0.50\n",
       "c     0.54\n",
       "d    90.00\n",
       "dtype: float64"
      ]
     },
     "execution_count": 16,
     "metadata": {},
     "output_type": "execute_result"
    }
   ],
   "source": [
    "data.e = 100\n",
    "data['a'] = .34\n",
    "data"
   ]
  },
  {
   "cell_type": "code",
   "execution_count": 17,
   "id": "73e6f5fa-e6fd-4dfb-969e-0c6717a5e80d",
   "metadata": {},
   "outputs": [
    {
     "data": {
      "text/plain": [
       "a    0.34\n",
       "b    0.50\n",
       "c    0.54\n",
       "dtype: float64"
      ]
     },
     "execution_count": 17,
     "metadata": {},
     "output_type": "execute_result"
    }
   ],
   "source": [
    "# Series as one-Dimensional Array: selection mechanisms such as slices, masking, fancy indexing,\n",
    "# Slicing\n",
    "# Final index is included in the slice unlike Python indexing\n",
    "data['a':'c']"
   ]
  },
  {
   "cell_type": "code",
   "execution_count": 20,
   "id": "7283313e-7525-4f85-a176-bda7feadacd2",
   "metadata": {},
   "outputs": [
    {
     "data": {
      "text/plain": [
       "a    0.34\n",
       "b    0.50\n",
       "dtype: float64"
      ]
     },
     "execution_count": 20,
     "metadata": {},
     "output_type": "execute_result"
    }
   ],
   "source": [
    "# data[0:2] # deprecated\n",
    "data.iloc[0:2]"
   ]
  },
  {
   "cell_type": "code",
   "execution_count": 23,
   "id": "f4bde47f-7e78-4eca-9e65-ab6eef732664",
   "metadata": {},
   "outputs": [
    {
     "data": {
      "text/plain": [
       "a    0.34\n",
       "b    0.50\n",
       "c    0.54\n",
       "dtype: float64"
      ]
     },
     "execution_count": 23,
     "metadata": {},
     "output_type": "execute_result"
    }
   ],
   "source": [
    "# Masking\n",
    "data[(data > .2) & (data < 1)]"
   ]
  },
  {
   "cell_type": "code",
   "execution_count": 24,
   "id": "c20727ba-8f66-43d9-9c5d-29c6b9c612da",
   "metadata": {},
   "outputs": [
    {
     "data": {
      "text/plain": [
       "a    0.34\n",
       "c    0.54\n",
       "dtype: float64"
      ]
     },
     "execution_count": 24,
     "metadata": {},
     "output_type": "execute_result"
    }
   ],
   "source": [
    "# Fancy indexing\n",
    "data[['a', 'c']]"
   ]
  },
  {
   "cell_type": "code",
   "execution_count": 25,
   "id": "b2a56df0-f585-471b-b02f-b7d0ba42720c",
   "metadata": {},
   "outputs": [
    {
     "data": {
      "text/plain": [
       "b    0.50\n",
       "c    0.54\n",
       "dtype: float64"
      ]
     },
     "execution_count": 25,
     "metadata": {},
     "output_type": "execute_result"
    }
   ],
   "source": [
    "# Using implicit indexing\n",
    "data[1:3]"
   ]
  },
  {
   "cell_type": "code",
   "execution_count": 26,
   "id": "d2f4472c-c3fa-448d-83b2-7945e04ab359",
   "metadata": {},
   "outputs": [
    {
     "name": "stderr",
     "output_type": "stream",
     "text": [
      "C:\\Users\\Kakaire Steven\\AppData\\Local\\Temp\\ipykernel_18348\\694983770.py:2: FutureWarning: Series.__getitem__ treating keys as positions is deprecated. In a future version, integer keys will always be treated as labels (consistent with DataFrame behavior). To access a value by position, use `ser.iloc[pos]`\n",
      "  data[2]\n"
     ]
    },
    {
     "data": {
      "text/plain": [
       "np.float64(0.54)"
      ]
     },
     "execution_count": 26,
     "metadata": {},
     "output_type": "execute_result"
    }
   ],
   "source": [
    "# Using explicit indexing\n",
    "data[2]"
   ]
  },
  {
   "cell_type": "code",
   "execution_count": null,
   "id": "90975add-ccf0-4762-8966-f0140c833bc3",
   "metadata": {},
   "outputs": [],
   "source": [
    "# Indexers: loc and iloc\n",
    "data = pd.Series(\n",
    "    ['K"
   ]
  }
 ],
 "metadata": {
  "kernelspec": {
   "display_name": "Python 3 (ipykernel)",
   "language": "python",
   "name": "python3"
  },
  "language_info": {
   "codemirror_mode": {
    "name": "ipython",
    "version": 3
   },
   "file_extension": ".py",
   "mimetype": "text/x-python",
   "name": "python",
   "nbconvert_exporter": "python",
   "pygments_lexer": "ipython3",
   "version": "3.9.7"
  }
 },
 "nbformat": 4,
 "nbformat_minor": 5
}
