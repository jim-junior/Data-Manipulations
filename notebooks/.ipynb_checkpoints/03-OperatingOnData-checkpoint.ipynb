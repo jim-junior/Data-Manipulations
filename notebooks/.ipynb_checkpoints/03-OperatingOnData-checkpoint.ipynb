{
 "cells": [
  {
   "cell_type": "code",
   "execution_count": 6,
   "id": "a19c5df2-bdfb-4164-95bf-ef294f36465c",
   "metadata": {},
   "outputs": [],
   "source": [
    "# Import dependencies\n",
    "import pandas as pd\n",
    "import numpy as np"
   ]
  },
  {
   "cell_type": "code",
   "execution_count": 7,
   "id": "8b228d41-400f-4734-bf50-f5f68e7e01b9",
   "metadata": {},
   "outputs": [],
   "source": [
    "# Universal Functions\n",
    "# Computation on NumPy arrays can be very fast, or it can be very slow.\n",
    "# Optimizing the computation of Vectorized operations is through use of NumPy's universal\n",
    "# function (ufuncs)\n",
    "\n",
    "# Python's default implementation, CPython does some operations very slowly.\n",
    "# other implementations have been attempted to address this such as PyPI project,\n",
    "# Cython, and Numba project."
   ]
  },
  {
   "cell_type": "code",
   "execution_count": 8,
   "id": "1463bae4-220b-4360-8957-4384abee083c",
   "metadata": {},
   "outputs": [
    {
     "data": {
      "text/plain": [
       "array([0.5       , 0.2       , 0.125     , 0.16666667, 0.125     ])"
      ]
     },
     "execution_count": 8,
     "metadata": {},
     "output_type": "execute_result"
    }
   ],
   "source": [
    "# Timing Code\n",
    "import numpy as np\n",
    "rng = np.random.default_rng(seed=1000)\n",
    "\n",
    "def compute_reciprocals(values):\n",
    "    output = np.empty(len(values))\n",
    "    for i in range(len(values)):\n",
    "        output[i] = 1.0 / values[i]\n",
    "    return output\n",
    "\n",
    "values = rng.integers(1, 10, size=5)\n",
    "compute_reciprocals(values)"
   ]
  },
  {
   "cell_type": "code",
   "execution_count": 15,
   "id": "db8926cb-8946-418d-9d6e-8f35f4de508d",
   "metadata": {},
   "outputs": [
    {
     "name": "stdout",
     "output_type": "stream",
     "text": [
      "3.72 s ± 83.1 ms per loop (mean ± std. dev. of 7 runs, 1 loop each)\n"
     ]
    }
   ],
   "source": [
    "# This implementation probably feels fairly natural.\n",
    "bigArray = rng.integers(1, 100, size=1_000_000)\n",
    "%timeit compute_reciprocals(bigArray)"
   ]
  },
  {
   "cell_type": "code",
   "execution_count": 16,
   "id": "924c2ce1-9f92-4aca-868c-c3052cacbbde",
   "metadata": {},
   "outputs": [
    {
     "data": {
      "text/plain": [
       "array([0.01587302, 0.02439024, 0.01111111, ..., 0.01470588, 0.0212766 ,\n",
       "       0.01470588])"
      ]
     },
     "execution_count": 16,
     "metadata": {},
     "output_type": "execute_result"
    }
   ],
   "source": [
    "compute_reciprocals(bigArray)"
   ]
  },
  {
   "cell_type": "code",
   "execution_count": 10,
   "id": "33603ac8-5527-4ba6-8046-57bd6022079d",
   "metadata": {},
   "outputs": [
    {
     "data": {
      "text/plain": [
       "array([0.5       , 0.2       , 0.125     , 0.16666667, 0.125     ])"
      ]
     },
     "execution_count": 10,
     "metadata": {},
     "output_type": "execute_result"
    }
   ],
   "source": [
    "compute_reciprocals(values)"
   ]
  },
  {
   "cell_type": "code",
   "execution_count": 11,
   "id": "6a705838-9ae3-48df-ae10-d23a1ec897d2",
   "metadata": {},
   "outputs": [
    {
     "name": "stdout",
     "output_type": "stream",
     "text": [
      "[0.5        0.2        0.125      0.16666667 0.125     ]\n"
     ]
    }
   ],
   "source": [
    "print(1.0/values)"
   ]
  },
  {
   "cell_type": "code",
   "execution_count": 13,
   "id": "dc3f927c-2783-49f2-be7f-cb45d4c5d2d6",
   "metadata": {},
   "outputs": [
    {
     "name": "stdout",
     "output_type": "stream",
     "text": [
      "6.08 ms ± 129 µs per loop (mean ± std. dev. of 7 runs, 100 loops each)\n"
     ]
    }
   ],
   "source": [
    "%timeit (1.0/bigArray)"
   ]
  },
  {
   "cell_type": "code",
   "execution_count": 20,
   "id": "02ced4f7-42b8-4ddf-81c6-e0377cca2d0d",
   "metadata": {},
   "outputs": [],
   "source": [
    "# Looking at the execution time for our big array, we see that it completes orders of\n",
    "# magnitude faster than the Python loop:\n",
    "\n",
    "# Vectorized operations in NumPy are implemented via ufuncs, whose main purpose\n",
    "# is to quickly execute operations on values in NumPy arrays."
   ]
  },
  {
   "cell_type": "code",
   "execution_count": 21,
   "id": "68acf5b2-24c6-4055-aee8-6712d0b7b61b",
   "metadata": {},
   "outputs": [
    {
     "data": {
      "text/plain": [
       "array([0.        , 0.5       , 0.66666667, 0.75      , 0.8       ])"
      ]
     },
     "execution_count": 21,
     "metadata": {},
     "output_type": "execute_result"
    }
   ],
   "source": [
    "# operation between arrays\n",
    "np.arange(5) / np.arange(1, 6)"
   ]
  },
  {
   "cell_type": "code",
   "execution_count": 25,
   "id": "9c9f33d7-0ee4-4115-9336-83546932689b",
   "metadata": {},
   "outputs": [
    {
     "data": {
      "text/plain": [
       "array([[  1,   2,   4],\n",
       "       [  8,  16,  32],\n",
       "       [ 64, 128, 256]])"
      ]
     },
     "execution_count": 25,
     "metadata": {},
     "output_type": "execute_result"
    }
   ],
   "source": [
    "# N-dimensions\n",
    "x = np.arange(9).reshape((3, 3))\n",
    "2**x"
   ]
  },
  {
   "cell_type": "code",
   "execution_count": 28,
   "id": "c06edf9d-61cf-4daa-955c-1947762ea680",
   "metadata": {},
   "outputs": [
    {
     "name": "stdout",
     "output_type": "stream",
     "text": [
      "[ 0. 10. 20. 30. 40.]\n"
     ]
    }
   ],
   "source": [
    "x = np.arange(5)\n",
    "y = np.empty(5)\n",
    "np.multiply(x, 10, out=y)\n",
    "print(y)"
   ]
  },
  {
   "cell_type": "code",
   "execution_count": 34,
   "id": "99be8c1c-4f30-4893-93bb-ad7160e4dc6c",
   "metadata": {},
   "outputs": [
    {
     "data": {
      "text/plain": [
       "array([ 1.,  0.,  2.,  0.,  4.,  0.,  8.,  0., 16.,  0.])"
      ]
     },
     "execution_count": 34,
     "metadata": {},
     "output_type": "execute_result"
    }
   ],
   "source": [
    "y = np.zeros(10)\n",
    "np.power(2, x, out=y[::2])\n",
    "y"
   ]
  },
  {
   "cell_type": "code",
   "execution_count": 32,
   "id": "3e6d2432-1a45-49c9-b72f-7ab919d7af0d",
   "metadata": {},
   "outputs": [],
   "source": [
    "y[::2] = 2**x"
   ]
  },
  {
   "cell_type": "code",
   "execution_count": 33,
   "id": "e17ae9c7-4aff-4d12-914f-589355aaa39f",
   "metadata": {},
   "outputs": [
    {
     "data": {
      "text/plain": [
       "array([ 1.,  0.,  2.,  0.,  4.,  0.,  8.,  0., 16.,  0.])"
      ]
     },
     "execution_count": 33,
     "metadata": {},
     "output_type": "execute_result"
    }
   ],
   "source": [
    "y"
   ]
  },
  {
   "cell_type": "code",
   "execution_count": null,
   "id": "e2d87287-ef14-4392-a475-710dfe94d9d8",
   "metadata": {},
   "outputs": [],
   "source": [
    "# Pandas inherits element-wise (such as addition, subtraction, multiplication etc) and unary operations (such as\n",
    "#  negation, trigomentry, exponential, etc ...) from NumPy.\n",
    "\n",
    "# For unary operations, Pandas preserves index and column labels.\n",
    "# For binary operations, Pandas will automatically align indices when pssing\n",
    "# the objects to the ufunc."
   ]
  },
  {
   "cell_type": "code",
   "execution_count": 35,
   "id": "af7e9137-151c-4e0c-95b8-4f5b45e6d3b4",
   "metadata": {},
   "outputs": [
    {
     "data": {
      "text/plain": [
       "0    0\n",
       "1    7\n",
       "2    6\n",
       "3    4\n",
       "dtype: int64"
      ]
     },
     "execution_count": 35,
     "metadata": {},
     "output_type": "execute_result"
    }
   ],
   "source": [
    "# Unfuncs: Index Preservation\n",
    "rng = np.random.default_rng(42)\n",
    "ser = pd.Series(rng.integers(0, 10, 4))\n",
    "ser"
   ]
  },
  {
   "cell_type": "code",
   "execution_count": 36,
   "id": "6efb8b5c-f167-4135-8169-746bf76bf3a6",
   "metadata": {},
   "outputs": [
    {
     "data": {
      "text/html": [
       "<div>\n",
       "<style scoped>\n",
       "    .dataframe tbody tr th:only-of-type {\n",
       "        vertical-align: middle;\n",
       "    }\n",
       "\n",
       "    .dataframe tbody tr th {\n",
       "        vertical-align: top;\n",
       "    }\n",
       "\n",
       "    .dataframe thead th {\n",
       "        text-align: right;\n",
       "    }\n",
       "</style>\n",
       "<table border=\"1\" class=\"dataframe\">\n",
       "  <thead>\n",
       "    <tr style=\"text-align: right;\">\n",
       "      <th></th>\n",
       "      <th>A</th>\n",
       "      <th>B</th>\n",
       "      <th>C</th>\n",
       "      <th>D</th>\n",
       "    </tr>\n",
       "  </thead>\n",
       "  <tbody>\n",
       "    <tr>\n",
       "      <th>0</th>\n",
       "      <td>4</td>\n",
       "      <td>8</td>\n",
       "      <td>0</td>\n",
       "      <td>6</td>\n",
       "    </tr>\n",
       "    <tr>\n",
       "      <th>1</th>\n",
       "      <td>2</td>\n",
       "      <td>0</td>\n",
       "      <td>5</td>\n",
       "      <td>9</td>\n",
       "    </tr>\n",
       "    <tr>\n",
       "      <th>2</th>\n",
       "      <td>7</td>\n",
       "      <td>7</td>\n",
       "      <td>7</td>\n",
       "      <td>7</td>\n",
       "    </tr>\n",
       "  </tbody>\n",
       "</table>\n",
       "</div>"
      ],
      "text/plain": [
       "   A  B  C  D\n",
       "0  4  8  0  6\n",
       "1  2  0  5  9\n",
       "2  7  7  7  7"
      ]
     },
     "execution_count": 36,
     "metadata": {},
     "output_type": "execute_result"
    }
   ],
   "source": [
    "df = pd.DataFrame(rng.integers(0, 10, (3, 4)),\n",
    "                  columns=['A', 'B', 'C', 'D'])\n",
    "df"
   ]
  },
  {
   "cell_type": "code",
   "execution_count": 37,
   "id": "e906805c-225b-45d5-a20f-1735e1a44c99",
   "metadata": {},
   "outputs": [
    {
     "data": {
      "text/plain": [
       "0       1.000000\n",
       "1    1096.633158\n",
       "2     403.428793\n",
       "3      54.598150\n",
       "dtype: float64"
      ]
     },
     "execution_count": 37,
     "metadata": {},
     "output_type": "execute_result"
    }
   ],
   "source": [
    "# Applying a NumPy ufunc\n",
    "np.exp(ser)"
   ]
  },
  {
   "cell_type": "code",
   "execution_count": 40,
   "id": "7ad9ddff-98db-4bc7-946f-d22fd5d7c730",
   "metadata": {},
   "outputs": [
    {
     "data": {
      "text/html": [
       "<div>\n",
       "<style scoped>\n",
       "    .dataframe tbody tr th:only-of-type {\n",
       "        vertical-align: middle;\n",
       "    }\n",
       "\n",
       "    .dataframe tbody tr th {\n",
       "        vertical-align: top;\n",
       "    }\n",
       "\n",
       "    .dataframe thead th {\n",
       "        text-align: right;\n",
       "    }\n",
       "</style>\n",
       "<table border=\"1\" class=\"dataframe\">\n",
       "  <thead>\n",
       "    <tr style=\"text-align: right;\">\n",
       "      <th></th>\n",
       "      <th>A</th>\n",
       "      <th>B</th>\n",
       "      <th>C</th>\n",
       "      <th>D</th>\n",
       "    </tr>\n",
       "  </thead>\n",
       "  <tbody>\n",
       "    <tr>\n",
       "      <th>0</th>\n",
       "      <td>1.224647e-16</td>\n",
       "      <td>-2.449294e-16</td>\n",
       "      <td>0.000000</td>\n",
       "      <td>-1.000000</td>\n",
       "    </tr>\n",
       "    <tr>\n",
       "      <th>1</th>\n",
       "      <td>1.000000e+00</td>\n",
       "      <td>0.000000e+00</td>\n",
       "      <td>-0.707107</td>\n",
       "      <td>0.707107</td>\n",
       "    </tr>\n",
       "    <tr>\n",
       "      <th>2</th>\n",
       "      <td>-7.071068e-01</td>\n",
       "      <td>-7.071068e-01</td>\n",
       "      <td>-0.707107</td>\n",
       "      <td>-0.707107</td>\n",
       "    </tr>\n",
       "  </tbody>\n",
       "</table>\n",
       "</div>"
      ],
      "text/plain": [
       "              A             B         C         D\n",
       "0  1.224647e-16 -2.449294e-16  0.000000 -1.000000\n",
       "1  1.000000e+00  0.000000e+00 -0.707107  0.707107\n",
       "2 -7.071068e-01 -7.071068e-01 -0.707107 -0.707107"
      ]
     },
     "execution_count": 40,
     "metadata": {},
     "output_type": "execute_result"
    }
   ],
   "source": [
    "np.sin(df*np.pi / 4)"
   ]
  },
  {
   "cell_type": "code",
   "execution_count": 41,
   "id": "a0dc3559-b831-4990-95b2-4d053bd7b095",
   "metadata": {},
   "outputs": [
    {
     "data": {
      "text/plain": [
       "Apac          10251.0\n",
       "Arua          13234.0\n",
       "Bundibugyo     1356.0\n",
       "Bushenyi          NaN\n",
       "Gulu           6066.0\n",
       "dtype: float64"
      ]
     },
     "execution_count": 41,
     "metadata": {},
     "output_type": "execute_result"
    }
   ],
   "source": [
    "# Index alignment\n",
    "# Pandas align inputs in the process of performing the operation\n",
    "# Convenient when working with incomplete data\n",
    "\n",
    "# General Elections 1996\n",
    "votes = pd.Series(\n",
    "    {'Apac': 169_583,\n",
    "     'Arua': 214_680,\n",
    "     'Bundibugyo': 53_819,\n",
    "     'Gulu': 129_200,\n",
    "    }\n",
    ")\n",
    "\n",
    "validVotes = pd.Series(\n",
    "    {'Apac': 159_332,\n",
    "     'Arua': 201_446,\n",
    "     'Bundibugyo': 52_463,\n",
    "     'Bushenyi': 248_730,\n",
    "     'Gulu': 123_134,\n",
    "    }\n",
    ")\n",
    "\n",
    "invalidVotes = votes - validVotes\n",
    "invalidVotes    "
   ]
  }
 ],
 "metadata": {
  "kernelspec": {
   "display_name": "Python 3 (ipykernel)",
   "language": "python",
   "name": "python3"
  },
  "language_info": {
   "codemirror_mode": {
    "name": "ipython",
    "version": 3
   },
   "file_extension": ".py",
   "mimetype": "text/x-python",
   "name": "python",
   "nbconvert_exporter": "python",
   "pygments_lexer": "ipython3",
   "version": "3.9.7"
  }
 },
 "nbformat": 4,
 "nbformat_minor": 5
}
