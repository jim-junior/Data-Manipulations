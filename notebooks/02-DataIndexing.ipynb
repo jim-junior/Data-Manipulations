{
 "cells": [
  {
   "cell_type": "markdown",
   "id": "a4fb337c-0d6b-4c2a-8b33-17f4a8264d8f",
   "metadata": {},
   "source": [
    "<h3>Data Indexing</h3>"
   ]
  },
  {
   "cell_type": "code",
   "execution_count": 95,
   "id": "3743b901-4c8b-457e-9c47-9683181b692b",
   "metadata": {},
   "outputs": [],
   "source": [
    "# import dependences\n",
    "import pandas as pd\n",
    "import numpy as np"
   ]
  },
  {
   "cell_type": "code",
   "execution_count": 96,
   "id": "e2d9ef1c-e82d-4ada-ab85-06350167f6b6",
   "metadata": {},
   "outputs": [
    {
     "data": {
      "text/plain": [
       "a    0.24\n",
       "b    0.50\n",
       "c    0.54\n",
       "d    2.00\n",
       "dtype: float64"
      ]
     },
     "execution_count": 96,
     "metadata": {},
     "output_type": "execute_result"
    }
   ],
   "source": [
    "# Data Selections in Series\n",
    "# A Series object acts in many ways like a one-dimensional NumPy array, and in\n",
    "# many ways like a standard Python dictionary\n",
    "\n",
    "# Series as a Dictionary\n",
    "data = pd.Series(\n",
    "    [0.24, .5, .54, 2.0],\n",
    "    index = ['a', 'b', 'c', 'd']\n",
    ")\n",
    "data"
   ]
  },
  {
   "cell_type": "code",
   "execution_count": 97,
   "id": "6f663198-1163-4b8e-8849-7ea249848e83",
   "metadata": {},
   "outputs": [
    {
     "data": {
      "text/plain": [
       "np.float64(2.0)"
      ]
     },
     "execution_count": 97,
     "metadata": {},
     "output_type": "execute_result"
    }
   ],
   "source": [
    "data['d']"
   ]
  },
  {
   "cell_type": "code",
   "execution_count": 98,
   "id": "b3420b86-3164-4a33-b4c7-4e5f83ceaea8",
   "metadata": {},
   "outputs": [
    {
     "data": {
      "text/plain": [
       "True"
      ]
     },
     "execution_count": 98,
     "metadata": {},
     "output_type": "execute_result"
    }
   ],
   "source": [
    "# Using dictionary-like expressions\n",
    "'a' in data"
   ]
  },
  {
   "cell_type": "code",
   "execution_count": 99,
   "id": "76a9444b-3086-404a-8b10-0521bb62a0a5",
   "metadata": {},
   "outputs": [
    {
     "data": {
      "text/plain": [
       "np.float64(0.24)"
      ]
     },
     "execution_count": 99,
     "metadata": {},
     "output_type": "execute_result"
    }
   ],
   "source": [
    "data.a"
   ]
  },
  {
   "cell_type": "code",
   "execution_count": 100,
   "id": "810ef8b9-7c51-4292-98f4-82c0ff5a939e",
   "metadata": {},
   "outputs": [
    {
     "data": {
      "text/plain": [
       "Index(['a', 'b', 'c', 'd'], dtype='object')"
      ]
     },
     "execution_count": 100,
     "metadata": {},
     "output_type": "execute_result"
    }
   ],
   "source": [
    "data.keys()"
   ]
  },
  {
   "cell_type": "code",
   "execution_count": 101,
   "id": "990c32a8-8f50-4217-a664-28a78a86b0a7",
   "metadata": {},
   "outputs": [
    {
     "data": {
      "text/plain": [
       "[('a', 0.24), ('b', 0.5), ('c', 0.54), ('d', 2.0)]"
      ]
     },
     "execution_count": 101,
     "metadata": {},
     "output_type": "execute_result"
    }
   ],
   "source": [
    "list(data.items())"
   ]
  },
  {
   "cell_type": "code",
   "execution_count": 102,
   "id": "c987e575-ce6e-4ba5-adf4-26960db80772",
   "metadata": {},
   "outputs": [
    {
     "data": {
      "text/plain": [
       "a     0.24\n",
       "b     0.50\n",
       "c     0.54\n",
       "d    90.00\n",
       "dtype: float64"
      ]
     },
     "execution_count": 102,
     "metadata": {},
     "output_type": "execute_result"
    }
   ],
   "source": [
    "# Modifying series objects with a dictionary-like syntax\n",
    "data.d = 90\n",
    "data"
   ]
  },
  {
   "cell_type": "code",
   "execution_count": 103,
   "id": "997f8a3a-75e3-4561-9e23-02c3f9e5949e",
   "metadata": {},
   "outputs": [
    {
     "data": {
      "text/plain": [
       "a     0.34\n",
       "b     0.50\n",
       "c     0.54\n",
       "d    90.00\n",
       "dtype: float64"
      ]
     },
     "execution_count": 103,
     "metadata": {},
     "output_type": "execute_result"
    }
   ],
   "source": [
    "data.e = 100\n",
    "data['a'] = .34\n",
    "data"
   ]
  },
  {
   "cell_type": "code",
   "execution_count": 104,
   "id": "73e6f5fa-e6fd-4dfb-969e-0c6717a5e80d",
   "metadata": {},
   "outputs": [
    {
     "data": {
      "text/plain": [
       "a    0.34\n",
       "b    0.50\n",
       "c    0.54\n",
       "dtype: float64"
      ]
     },
     "execution_count": 104,
     "metadata": {},
     "output_type": "execute_result"
    }
   ],
   "source": [
    "# Series as one-Dimensional Array: selection mechanisms such as slices, masking, fancy indexing,\n",
    "# Slicing\n",
    "# Final index is included in the slice unlike Python indexing\n",
    "data['a':'c']"
   ]
  },
  {
   "cell_type": "code",
   "execution_count": 105,
   "id": "7283313e-7525-4f85-a176-bda7feadacd2",
   "metadata": {},
   "outputs": [
    {
     "data": {
      "text/plain": [
       "a    0.34\n",
       "b    0.50\n",
       "dtype: float64"
      ]
     },
     "execution_count": 105,
     "metadata": {},
     "output_type": "execute_result"
    }
   ],
   "source": [
    "# data[0:2] # deprecated\n",
    "data.iloc[0:2]"
   ]
  },
  {
   "cell_type": "code",
   "execution_count": 106,
   "id": "f4bde47f-7e78-4eca-9e65-ab6eef732664",
   "metadata": {},
   "outputs": [
    {
     "data": {
      "text/plain": [
       "a    0.34\n",
       "b    0.50\n",
       "c    0.54\n",
       "dtype: float64"
      ]
     },
     "execution_count": 106,
     "metadata": {},
     "output_type": "execute_result"
    }
   ],
   "source": [
    "# Masking\n",
    "data[(data > .2) & (data < 1)]"
   ]
  },
  {
   "cell_type": "code",
   "execution_count": 107,
   "id": "c20727ba-8f66-43d9-9c5d-29c6b9c612da",
   "metadata": {},
   "outputs": [
    {
     "data": {
      "text/plain": [
       "a    0.34\n",
       "c    0.54\n",
       "dtype: float64"
      ]
     },
     "execution_count": 107,
     "metadata": {},
     "output_type": "execute_result"
    }
   ],
   "source": [
    "# Fancy indexing\n",
    "data[['a', 'c']]"
   ]
  },
  {
   "cell_type": "code",
   "execution_count": 108,
   "id": "b2a56df0-f585-471b-b02f-b7d0ba42720c",
   "metadata": {},
   "outputs": [
    {
     "data": {
      "text/plain": [
       "b    0.50\n",
       "c    0.54\n",
       "dtype: float64"
      ]
     },
     "execution_count": 108,
     "metadata": {},
     "output_type": "execute_result"
    }
   ],
   "source": [
    "# Using implicit indexing\n",
    "data[1:3]"
   ]
  },
  {
   "cell_type": "code",
   "execution_count": 109,
   "id": "d2f4472c-c3fa-448d-83b2-7945e04ab359",
   "metadata": {},
   "outputs": [
    {
     "name": "stderr",
     "output_type": "stream",
     "text": [
      "C:\\Users\\Kakaire Steven\\AppData\\Local\\Temp\\ipykernel_18348\\694983770.py:2: FutureWarning: Series.__getitem__ treating keys as positions is deprecated. In a future version, integer keys will always be treated as labels (consistent with DataFrame behavior). To access a value by position, use `ser.iloc[pos]`\n",
      "  data[2]\n"
     ]
    },
    {
     "data": {
      "text/plain": [
       "np.float64(0.54)"
      ]
     },
     "execution_count": 109,
     "metadata": {},
     "output_type": "execute_result"
    }
   ],
   "source": [
    "# Using explicit indexing\n",
    "data[2]"
   ]
  },
  {
   "cell_type": "code",
   "execution_count": 110,
   "id": "90975add-ccf0-4762-8966-f0140c833bc3",
   "metadata": {},
   "outputs": [
    {
     "data": {
      "text/plain": [
       "1    Kampala\n",
       "2     Mukono\n",
       "3      Jinja\n",
       "dtype: object"
      ]
     },
     "execution_count": 110,
     "metadata": {},
     "output_type": "execute_result"
    }
   ],
   "source": [
    "# Indexers: loc and iloc\n",
    "data = pd.Series(\n",
    "    ['Kampala',\n",
    "     'Mukono',\n",
    "     'Jinja'],\n",
    "    index=[1, 2, 3]\n",
    ")\n",
    "data"
   ]
  },
  {
   "cell_type": "code",
   "execution_count": 111,
   "id": "ccf81b8c-283c-4f32-9a5a-0e2c64a0544a",
   "metadata": {},
   "outputs": [
    {
     "data": {
      "text/plain": [
       "'Kampala'"
      ]
     },
     "execution_count": 111,
     "metadata": {},
     "output_type": "execute_result"
    }
   ],
   "source": [
    "# loc attribute allows indexing and slicing. Always references the explicit index\n",
    "# data.loc[1]\n",
    "# loc gets rows (and/or columns) with particular labels (explicit index)\n",
    "# iloc gets rows (and/or columns) at integer locations (implicit index), Python-Style index\n",
    "data.loc[1]"
   ]
  },
  {
   "cell_type": "code",
   "execution_count": 112,
   "id": "7b9384d1-b4c1-456c-926d-1f6f2a5cc90a",
   "metadata": {},
   "outputs": [
    {
     "data": {
      "text/plain": [
       "'Mukono'"
      ]
     },
     "execution_count": 112,
     "metadata": {},
     "output_type": "execute_result"
    }
   ],
   "source": [
    "data.iloc[1]"
   ]
  },
  {
   "cell_type": "code",
   "execution_count": 113,
   "id": "47d4cf8f-1cad-401f-a99c-f25ee5a85ba8",
   "metadata": {},
   "outputs": [],
   "source": [
    "# Conclusions\n",
    "# Explicit is better than implicit.\n",
    "# loc and iloc are explicit.\n",
    "# Learn from the Zen of Python\n",
    "import this"
   ]
  },
  {
   "cell_type": "code",
   "execution_count": 114,
   "id": "c3285f79-a8f9-4047-bc98-bd05ae4188f6",
   "metadata": {},
   "outputs": [
    {
     "data": {
      "text/html": [
       "<div>\n",
       "<style scoped>\n",
       "    .dataframe tbody tr th:only-of-type {\n",
       "        vertical-align: middle;\n",
       "    }\n",
       "\n",
       "    .dataframe tbody tr th {\n",
       "        vertical-align: top;\n",
       "    }\n",
       "\n",
       "    .dataframe thead th {\n",
       "        text-align: right;\n",
       "    }\n",
       "</style>\n",
       "<table border=\"1\" class=\"dataframe\">\n",
       "  <thead>\n",
       "    <tr style=\"text-align: right;\">\n",
       "      <th></th>\n",
       "      <th>HIV Prevalence</th>\n",
       "      <th>pop</th>\n",
       "    </tr>\n",
       "  </thead>\n",
       "  <tbody>\n",
       "    <tr>\n",
       "      <th>Central 1</th>\n",
       "      <td>8.6</td>\n",
       "      <td>6904035</td>\n",
       "    </tr>\n",
       "    <tr>\n",
       "      <th>Central 2</th>\n",
       "      <td>7.6</td>\n",
       "      <td>5485890</td>\n",
       "    </tr>\n",
       "    <tr>\n",
       "      <th>Kampala</th>\n",
       "      <td>6.9</td>\n",
       "      <td>8000234</td>\n",
       "    </tr>\n",
       "    <tr>\n",
       "      <th>East-Central</th>\n",
       "      <td>4.7</td>\n",
       "      <td>3000000</td>\n",
       "    </tr>\n",
       "    <tr>\n",
       "      <th>Mid-Central</th>\n",
       "      <td>5.1</td>\n",
       "      <td>4904342</td>\n",
       "    </tr>\n",
       "  </tbody>\n",
       "</table>\n",
       "</div>"
      ],
      "text/plain": [
       "              HIV Prevalence      pop\n",
       "Central 1                8.6  6904035\n",
       "Central 2                7.6  5485890\n",
       "Kampala                  6.9  8000234\n",
       "East-Central             4.7  3000000\n",
       "Mid-Central              5.1  4904342"
      ]
     },
     "execution_count": 114,
     "metadata": {},
     "output_type": "execute_result"
    }
   ],
   "source": [
    "# Data Selection in DataFrames\n",
    "# A dataframe acts in many ways like a two-dimensional or structured array.\n",
    "# And in other ways like a dictionary of series structures sharing the same index\n",
    "hivPrevalence = pd.Series(\n",
    "    {\n",
    "    'Central 1': 8.6,\n",
    "    'Central 2': 7.6,\n",
    "    'Kampala': 6.9,\n",
    "    'East-Central': 4.7,\n",
    "    'Mid-Central': 5.1,\n",
    "}\n",
    ")\n",
    "\n",
    "population = pd.Series(\n",
    "    {\n",
    "    'Central 1': 6_904_035,\n",
    "    'Central 2': 5_485_890,\n",
    "    'Kampala': 8_000_234,\n",
    "    'East-Central': 3_000_000,\n",
    "    'Mid-Central': 4_904_342,\n",
    "}\n",
    ")\n",
    "\n",
    "data = pd.DataFrame({'HIV Prevalence': hivPrevalence,\n",
    "                     'pop': population\n",
    "                    })\n",
    "data"
   ]
  },
  {
   "cell_type": "code",
   "execution_count": 115,
   "id": "0af014e8-ff39-422a-95c0-b5f8db6f13e7",
   "metadata": {},
   "outputs": [
    {
     "data": {
      "text/plain": [
       "Central 1       8.6\n",
       "Central 2       7.6\n",
       "Kampala         6.9\n",
       "East-Central    4.7\n",
       "Mid-Central     5.1\n",
       "Name: HIV Prevalence, dtype: float64"
      ]
     },
     "execution_count": 115,
     "metadata": {},
     "output_type": "execute_result"
    }
   ],
   "source": [
    "# Individual Series that make up the DataFrame can be accessed via dictionary-style indexing\n",
    "data['HIV Prevalence']"
   ]
  },
  {
   "cell_type": "code",
   "execution_count": 116,
   "id": "70c622c5-a977-4880-aea3-c815190c05a9",
   "metadata": {},
   "outputs": [
    {
     "data": {
      "text/plain": [
       "False"
      ]
     },
     "execution_count": 116,
     "metadata": {},
     "output_type": "execute_result"
    }
   ],
   "source": [
    "# Using attribute-styel access\n",
    "# This does not work in all cases. Think ...\n",
    "# NOTE: You should avoid the temptation to try column assignment via attributes.\n",
    "data.pop is data['pop']"
   ]
  },
  {
   "cell_type": "code",
   "execution_count": 117,
   "id": "ca5804f4-76fd-48c9-a16c-6df80213296a",
   "metadata": {},
   "outputs": [
    {
     "data": {
      "text/html": [
       "<div>\n",
       "<style scoped>\n",
       "    .dataframe tbody tr th:only-of-type {\n",
       "        vertical-align: middle;\n",
       "    }\n",
       "\n",
       "    .dataframe tbody tr th {\n",
       "        vertical-align: top;\n",
       "    }\n",
       "\n",
       "    .dataframe thead th {\n",
       "        text-align: right;\n",
       "    }\n",
       "</style>\n",
       "<table border=\"1\" class=\"dataframe\">\n",
       "  <thead>\n",
       "    <tr style=\"text-align: right;\">\n",
       "      <th></th>\n",
       "      <th>HIV Prevalence</th>\n",
       "      <th>pop</th>\n",
       "      <th>Number of Patients</th>\n",
       "    </tr>\n",
       "  </thead>\n",
       "  <tbody>\n",
       "    <tr>\n",
       "      <th>Central 1</th>\n",
       "      <td>8.6</td>\n",
       "      <td>6904035</td>\n",
       "      <td>59374701.0</td>\n",
       "    </tr>\n",
       "    <tr>\n",
       "      <th>Central 2</th>\n",
       "      <td>7.6</td>\n",
       "      <td>5485890</td>\n",
       "      <td>41692764.0</td>\n",
       "    </tr>\n",
       "    <tr>\n",
       "      <th>Kampala</th>\n",
       "      <td>6.9</td>\n",
       "      <td>8000234</td>\n",
       "      <td>55201614.6</td>\n",
       "    </tr>\n",
       "    <tr>\n",
       "      <th>East-Central</th>\n",
       "      <td>4.7</td>\n",
       "      <td>3000000</td>\n",
       "      <td>14100000.0</td>\n",
       "    </tr>\n",
       "    <tr>\n",
       "      <th>Mid-Central</th>\n",
       "      <td>5.1</td>\n",
       "      <td>4904342</td>\n",
       "      <td>25012144.2</td>\n",
       "    </tr>\n",
       "  </tbody>\n",
       "</table>\n",
       "</div>"
      ],
      "text/plain": [
       "              HIV Prevalence      pop  Number of Patients\n",
       "Central 1                8.6  6904035          59374701.0\n",
       "Central 2                7.6  5485890          41692764.0\n",
       "Kampala                  6.9  8000234          55201614.6\n",
       "East-Central             4.7  3000000          14100000.0\n",
       "Mid-Central              5.1  4904342          25012144.2"
      ]
     },
     "execution_count": 117,
     "metadata": {},
     "output_type": "execute_result"
    }
   ],
   "source": [
    "# Using dictionary-like syntax to modify data\n",
    "data['Number of Patients'] = data['pop'] * data['HIV Prevalence']\n",
    "data"
   ]
  },
  {
   "cell_type": "code",
   "execution_count": 118,
   "id": "30700e42-b710-4cd9-9d15-80bdae26e283",
   "metadata": {},
   "outputs": [
    {
     "data": {
      "text/plain": [
       "array([[8.60000000e+00, 6.90403500e+06, 5.93747010e+07],\n",
       "       [7.60000000e+00, 5.48589000e+06, 4.16927640e+07],\n",
       "       [6.90000000e+00, 8.00023400e+06, 5.52016146e+07],\n",
       "       [4.70000000e+00, 3.00000000e+06, 1.41000000e+07],\n",
       "       [5.10000000e+00, 4.90434200e+06, 2.50121442e+07]])"
      ]
     },
     "execution_count": 118,
     "metadata": {},
     "output_type": "execute_result"
    }
   ],
   "source": [
    "# DataFrames as Two-Dimensional Array\n",
    "# Underlaying data array\n",
    "data.values"
   ]
  },
  {
   "cell_type": "code",
   "execution_count": 119,
   "id": "35b2e6f7-2ef1-402c-b33b-3e3c576a3ba5",
   "metadata": {},
   "outputs": [
    {
     "data": {
      "text/plain": [
       "array([8.6000000e+00, 6.9040350e+06, 5.9374701e+07])"
      ]
     },
     "execution_count": 119,
     "metadata": {},
     "output_type": "execute_result"
    }
   ],
   "source": [
    "# Accessing a row\n",
    "data.values[0]"
   ]
  },
  {
   "cell_type": "code",
   "execution_count": 120,
   "id": "0ba6bf22-57f6-433d-96a3-6001e4418a46",
   "metadata": {},
   "outputs": [
    {
     "data": {
      "text/html": [
       "<div>\n",
       "<style scoped>\n",
       "    .dataframe tbody tr th:only-of-type {\n",
       "        vertical-align: middle;\n",
       "    }\n",
       "\n",
       "    .dataframe tbody tr th {\n",
       "        vertical-align: top;\n",
       "    }\n",
       "\n",
       "    .dataframe thead th {\n",
       "        text-align: right;\n",
       "    }\n",
       "</style>\n",
       "<table border=\"1\" class=\"dataframe\">\n",
       "  <thead>\n",
       "    <tr style=\"text-align: right;\">\n",
       "      <th></th>\n",
       "      <th>Central 1</th>\n",
       "      <th>Central 2</th>\n",
       "      <th>Kampala</th>\n",
       "      <th>East-Central</th>\n",
       "      <th>Mid-Central</th>\n",
       "    </tr>\n",
       "  </thead>\n",
       "  <tbody>\n",
       "    <tr>\n",
       "      <th>HIV Prevalence</th>\n",
       "      <td>8.6</td>\n",
       "      <td>7.6</td>\n",
       "      <td>6.9</td>\n",
       "      <td>4.7</td>\n",
       "      <td>5.1</td>\n",
       "    </tr>\n",
       "    <tr>\n",
       "      <th>pop</th>\n",
       "      <td>6904035.0</td>\n",
       "      <td>5485890.0</td>\n",
       "      <td>8000234.0</td>\n",
       "      <td>3000000.0</td>\n",
       "      <td>4904342.0</td>\n",
       "    </tr>\n",
       "    <tr>\n",
       "      <th>Number of Patients</th>\n",
       "      <td>59374701.0</td>\n",
       "      <td>41692764.0</td>\n",
       "      <td>55201614.6</td>\n",
       "      <td>14100000.0</td>\n",
       "      <td>25012144.2</td>\n",
       "    </tr>\n",
       "  </tbody>\n",
       "</table>\n",
       "</div>"
      ],
      "text/plain": [
       "                     Central 1   Central 2     Kampala  East-Central  \\\n",
       "HIV Prevalence             8.6         7.6         6.9           4.7   \n",
       "pop                  6904035.0   5485890.0   8000234.0     3000000.0   \n",
       "Number of Patients  59374701.0  41692764.0  55201614.6    14100000.0   \n",
       "\n",
       "                    Mid-Central  \n",
       "HIV Prevalence              5.1  \n",
       "pop                   4904342.0  \n",
       "Number of Patients   25012144.2  "
      ]
     },
     "execution_count": 120,
     "metadata": {},
     "output_type": "execute_result"
    }
   ],
   "source": [
    "# Many array-like operations can be done on the dataframe itself\n",
    "data.T"
   ]
  },
  {
   "cell_type": "code",
   "execution_count": 121,
   "id": "d6ded6a4-9362-4f76-9c52-f203e6985ccd",
   "metadata": {},
   "outputs": [
    {
     "data": {
      "text/plain": [
       "Central 1       6904035\n",
       "Central 2       5485890\n",
       "Kampala         8000234\n",
       "East-Central    3000000\n",
       "Mid-Central     4904342\n",
       "Name: pop, dtype: int64"
      ]
     },
     "execution_count": 121,
     "metadata": {},
     "output_type": "execute_result"
    }
   ],
   "source": [
    "# Accessing a column\n",
    "data['pop']"
   ]
  },
  {
   "cell_type": "code",
   "execution_count": 122,
   "id": "8f72627a-53d1-4b97-bb3b-838c8589f42f",
   "metadata": {},
   "outputs": [
    {
     "data": {
      "text/plain": [
       "Central 1       6904035\n",
       "Central 2       5485890\n",
       "Kampala         8000234\n",
       "East-Central    3000000\n",
       "Mid-Central     4904342\n",
       "Name: pop, dtype: int64"
      ]
     },
     "execution_count": 122,
     "metadata": {},
     "output_type": "execute_result"
    }
   ],
   "source": [
    "# Dictionary-like indexing inhibits our abilitity to treat a DataFrame as NumPy array.\n",
    "data['pop']"
   ]
  },
  {
   "cell_type": "code",
   "execution_count": 123,
   "id": "10555c9f-a0a3-47ac-ac8f-45b699e794e3",
   "metadata": {},
   "outputs": [
    {
     "data": {
      "text/html": [
       "<div>\n",
       "<style scoped>\n",
       "    .dataframe tbody tr th:only-of-type {\n",
       "        vertical-align: middle;\n",
       "    }\n",
       "\n",
       "    .dataframe tbody tr th {\n",
       "        vertical-align: top;\n",
       "    }\n",
       "\n",
       "    .dataframe thead th {\n",
       "        text-align: right;\n",
       "    }\n",
       "</style>\n",
       "<table border=\"1\" class=\"dataframe\">\n",
       "  <thead>\n",
       "    <tr style=\"text-align: right;\">\n",
       "      <th></th>\n",
       "      <th>HIV Prevalence</th>\n",
       "      <th>pop</th>\n",
       "      <th>Number of Patients</th>\n",
       "    </tr>\n",
       "  </thead>\n",
       "  <tbody>\n",
       "    <tr>\n",
       "      <th>Central 1</th>\n",
       "      <td>8.6</td>\n",
       "      <td>6904035</td>\n",
       "      <td>59374701.0</td>\n",
       "    </tr>\n",
       "    <tr>\n",
       "      <th>Central 2</th>\n",
       "      <td>7.6</td>\n",
       "      <td>5485890</td>\n",
       "      <td>41692764.0</td>\n",
       "    </tr>\n",
       "    <tr>\n",
       "      <th>Kampala</th>\n",
       "      <td>6.9</td>\n",
       "      <td>8000234</td>\n",
       "      <td>55201614.6</td>\n",
       "    </tr>\n",
       "    <tr>\n",
       "      <th>East-Central</th>\n",
       "      <td>4.7</td>\n",
       "      <td>3000000</td>\n",
       "      <td>14100000.0</td>\n",
       "    </tr>\n",
       "    <tr>\n",
       "      <th>Mid-Central</th>\n",
       "      <td>5.1</td>\n",
       "      <td>4904342</td>\n",
       "      <td>25012144.2</td>\n",
       "    </tr>\n",
       "  </tbody>\n",
       "</table>\n",
       "</div>"
      ],
      "text/plain": [
       "              HIV Prevalence      pop  Number of Patients\n",
       "Central 1                8.6  6904035          59374701.0\n",
       "Central 2                7.6  5485890          41692764.0\n",
       "Kampala                  6.9  8000234          55201614.6\n",
       "East-Central             4.7  3000000          14100000.0\n",
       "Mid-Central              5.1  4904342          25012144.2"
      ]
     },
     "execution_count": 123,
     "metadata": {},
     "output_type": "execute_result"
    }
   ],
   "source": [
    "data"
   ]
  },
  {
   "cell_type": "code",
   "execution_count": 124,
   "id": "df5b0f4a-a6de-49fd-880d-b2c35cb8f7ab",
   "metadata": {},
   "outputs": [
    {
     "data": {
      "text/html": [
       "<div>\n",
       "<style scoped>\n",
       "    .dataframe tbody tr th:only-of-type {\n",
       "        vertical-align: middle;\n",
       "    }\n",
       "\n",
       "    .dataframe tbody tr th {\n",
       "        vertical-align: top;\n",
       "    }\n",
       "\n",
       "    .dataframe thead th {\n",
       "        text-align: right;\n",
       "    }\n",
       "</style>\n",
       "<table border=\"1\" class=\"dataframe\">\n",
       "  <thead>\n",
       "    <tr style=\"text-align: right;\">\n",
       "      <th></th>\n",
       "      <th>HIV Prevalence</th>\n",
       "    </tr>\n",
       "  </thead>\n",
       "  <tbody>\n",
       "    <tr>\n",
       "      <th>Central 1</th>\n",
       "      <td>8.6</td>\n",
       "    </tr>\n",
       "    <tr>\n",
       "      <th>Central 2</th>\n",
       "      <td>7.6</td>\n",
       "    </tr>\n",
       "    <tr>\n",
       "      <th>Kampala</th>\n",
       "      <td>6.9</td>\n",
       "    </tr>\n",
       "  </tbody>\n",
       "</table>\n",
       "</div>"
      ],
      "text/plain": [
       "           HIV Prevalence\n",
       "Central 1             8.6\n",
       "Central 2             7.6\n",
       "Kampala               6.9"
      ]
     },
     "execution_count": 124,
     "metadata": {},
     "output_type": "execute_result"
    }
   ],
   "source": [
    "# Using loc and iloc\n",
    "data.iloc[:3, :1]"
   ]
  },
  {
   "cell_type": "code",
   "execution_count": 125,
   "id": "3508cb81-d463-4430-b5dd-4246e14f41eb",
   "metadata": {},
   "outputs": [
    {
     "data": {
      "text/html": [
       "<div>\n",
       "<style scoped>\n",
       "    .dataframe tbody tr th:only-of-type {\n",
       "        vertical-align: middle;\n",
       "    }\n",
       "\n",
       "    .dataframe tbody tr th {\n",
       "        vertical-align: top;\n",
       "    }\n",
       "\n",
       "    .dataframe thead th {\n",
       "        text-align: right;\n",
       "    }\n",
       "</style>\n",
       "<table border=\"1\" class=\"dataframe\">\n",
       "  <thead>\n",
       "    <tr style=\"text-align: right;\">\n",
       "      <th></th>\n",
       "      <th>HIV Prevalence</th>\n",
       "      <th>pop</th>\n",
       "    </tr>\n",
       "  </thead>\n",
       "  <tbody>\n",
       "    <tr>\n",
       "      <th>Central 1</th>\n",
       "      <td>8.6</td>\n",
       "      <td>6904035</td>\n",
       "    </tr>\n",
       "    <tr>\n",
       "      <th>Central 2</th>\n",
       "      <td>7.6</td>\n",
       "      <td>5485890</td>\n",
       "    </tr>\n",
       "    <tr>\n",
       "      <th>Kampala</th>\n",
       "      <td>6.9</td>\n",
       "      <td>8000234</td>\n",
       "    </tr>\n",
       "    <tr>\n",
       "      <th>East-Central</th>\n",
       "      <td>4.7</td>\n",
       "      <td>3000000</td>\n",
       "    </tr>\n",
       "  </tbody>\n",
       "</table>\n",
       "</div>"
      ],
      "text/plain": [
       "              HIV Prevalence      pop\n",
       "Central 1                8.6  6904035\n",
       "Central 2                7.6  5485890\n",
       "Kampala                  6.9  8000234\n",
       "East-Central             4.7  3000000"
      ]
     },
     "execution_count": 125,
     "metadata": {},
     "output_type": "execute_result"
    }
   ],
   "source": [
    "data.loc['Central 1': 'East-Central', :'pop']"
   ]
  },
  {
   "cell_type": "code",
   "execution_count": 126,
   "id": "4581e0c2-8bbf-41a2-ac70-d1546854be66",
   "metadata": {},
   "outputs": [],
   "source": [
    "# More NumPy-like data access\n",
    "# data.loc[data['HIV Prevalence'] > 7.5, 'HIV Prevalence'] = 10"
   ]
  },
  {
   "cell_type": "code",
   "execution_count": 129,
   "id": "b60cd9f0-74da-49bd-9b4a-16b04f1d0f62",
   "metadata": {},
   "outputs": [],
   "source": [
    "# Any of these indexing conventions may also be used to set or modify values\n",
    "# data.iloc[0, 1] = 500_000\n",
    "# data"
   ]
  },
  {
   "cell_type": "code",
   "execution_count": 130,
   "id": "f54795df-0109-4dd0-8764-6a1c66a6b59a",
   "metadata": {},
   "outputs": [],
   "source": [
    "# To build your fluency in Pandas Data Manipulation, spend more time with\n",
    "# a simple DataFrame and exploring the types of indexing, slicing masking and\n",
    "# fancy indexing that are allowed by these various approaches"
   ]
  },
  {
   "cell_type": "code",
   "execution_count": 131,
   "id": "e4a5e6e4-7e0b-4853-8e2c-caf470fb625f",
   "metadata": {},
   "outputs": [
    {
     "data": {
      "text/html": [
       "<div>\n",
       "<style scoped>\n",
       "    .dataframe tbody tr th:only-of-type {\n",
       "        vertical-align: middle;\n",
       "    }\n",
       "\n",
       "    .dataframe tbody tr th {\n",
       "        vertical-align: top;\n",
       "    }\n",
       "\n",
       "    .dataframe thead th {\n",
       "        text-align: right;\n",
       "    }\n",
       "</style>\n",
       "<table border=\"1\" class=\"dataframe\">\n",
       "  <thead>\n",
       "    <tr style=\"text-align: right;\">\n",
       "      <th></th>\n",
       "      <th>HIV Prevalence</th>\n",
       "      <th>pop</th>\n",
       "      <th>Number of Patients</th>\n",
       "    </tr>\n",
       "  </thead>\n",
       "  <tbody>\n",
       "    <tr>\n",
       "      <th>Central 1</th>\n",
       "      <td>8.6</td>\n",
       "      <td>500000</td>\n",
       "      <td>59374701.0</td>\n",
       "    </tr>\n",
       "    <tr>\n",
       "      <th>Central 2</th>\n",
       "      <td>7.6</td>\n",
       "      <td>5485890</td>\n",
       "      <td>41692764.0</td>\n",
       "    </tr>\n",
       "    <tr>\n",
       "      <th>Kampala</th>\n",
       "      <td>6.9</td>\n",
       "      <td>8000234</td>\n",
       "      <td>55201614.6</td>\n",
       "    </tr>\n",
       "    <tr>\n",
       "      <th>East-Central</th>\n",
       "      <td>4.7</td>\n",
       "      <td>3000000</td>\n",
       "      <td>14100000.0</td>\n",
       "    </tr>\n",
       "  </tbody>\n",
       "</table>\n",
       "</div>"
      ],
      "text/plain": [
       "              HIV Prevalence      pop  Number of Patients\n",
       "Central 1                8.6   500000          59374701.0\n",
       "Central 2                7.6  5485890          41692764.0\n",
       "Kampala                  6.9  8000234          55201614.6\n",
       "East-Central             4.7  3000000          14100000.0"
      ]
     },
     "execution_count": 131,
     "metadata": {},
     "output_type": "execute_result"
    }
   ],
   "source": [
    "# Additional indexing conventions\n",
    "# While indexing refers to columns, slicing refers to rows\n",
    "data['Central 1': 'East-Central']"
   ]
  },
  {
   "cell_type": "code",
   "execution_count": 132,
   "id": "3a9b0c17-5af5-4eec-bdeb-692a99b08131",
   "metadata": {},
   "outputs": [
    {
     "data": {
      "text/html": [
       "<div>\n",
       "<style scoped>\n",
       "    .dataframe tbody tr th:only-of-type {\n",
       "        vertical-align: middle;\n",
       "    }\n",
       "\n",
       "    .dataframe tbody tr th {\n",
       "        vertical-align: top;\n",
       "    }\n",
       "\n",
       "    .dataframe thead th {\n",
       "        text-align: right;\n",
       "    }\n",
       "</style>\n",
       "<table border=\"1\" class=\"dataframe\">\n",
       "  <thead>\n",
       "    <tr style=\"text-align: right;\">\n",
       "      <th></th>\n",
       "      <th>HIV Prevalence</th>\n",
       "      <th>pop</th>\n",
       "      <th>Number of Patients</th>\n",
       "    </tr>\n",
       "  </thead>\n",
       "  <tbody>\n",
       "    <tr>\n",
       "      <th>Central 2</th>\n",
       "      <td>7.6</td>\n",
       "      <td>5485890</td>\n",
       "      <td>41692764.0</td>\n",
       "    </tr>\n",
       "    <tr>\n",
       "      <th>Kampala</th>\n",
       "      <td>6.9</td>\n",
       "      <td>8000234</td>\n",
       "      <td>55201614.6</td>\n",
       "    </tr>\n",
       "  </tbody>\n",
       "</table>\n",
       "</div>"
      ],
      "text/plain": [
       "           HIV Prevalence      pop  Number of Patients\n",
       "Central 2             7.6  5485890          41692764.0\n",
       "Kampala               6.9  8000234          55201614.6"
      ]
     },
     "execution_count": 132,
     "metadata": {},
     "output_type": "execute_result"
    }
   ],
   "source": [
    "data[1:3]"
   ]
  },
  {
   "cell_type": "code",
   "execution_count": 135,
   "id": "85523ed4-c9a2-4d40-b7a1-f7d0544e0b67",
   "metadata": {},
   "outputs": [
    {
     "data": {
      "text/html": [
       "<div>\n",
       "<style scoped>\n",
       "    .dataframe tbody tr th:only-of-type {\n",
       "        vertical-align: middle;\n",
       "    }\n",
       "\n",
       "    .dataframe tbody tr th {\n",
       "        vertical-align: top;\n",
       "    }\n",
       "\n",
       "    .dataframe thead th {\n",
       "        text-align: right;\n",
       "    }\n",
       "</style>\n",
       "<table border=\"1\" class=\"dataframe\">\n",
       "  <thead>\n",
       "    <tr style=\"text-align: right;\">\n",
       "      <th></th>\n",
       "      <th>HIV Prevalence</th>\n",
       "      <th>pop</th>\n",
       "      <th>Number of Patients</th>\n",
       "    </tr>\n",
       "  </thead>\n",
       "  <tbody>\n",
       "    <tr>\n",
       "      <th>Central 2</th>\n",
       "      <td>7.6</td>\n",
       "      <td>5485890</td>\n",
       "      <td>41692764.0</td>\n",
       "    </tr>\n",
       "    <tr>\n",
       "      <th>Kampala</th>\n",
       "      <td>6.9</td>\n",
       "      <td>8000234</td>\n",
       "      <td>55201614.6</td>\n",
       "    </tr>\n",
       "    <tr>\n",
       "      <th>East-Central</th>\n",
       "      <td>4.7</td>\n",
       "      <td>3000000</td>\n",
       "      <td>14100000.0</td>\n",
       "    </tr>\n",
       "    <tr>\n",
       "      <th>Mid-Central</th>\n",
       "      <td>5.1</td>\n",
       "      <td>4904342</td>\n",
       "      <td>25012144.2</td>\n",
       "    </tr>\n",
       "  </tbody>\n",
       "</table>\n",
       "</div>"
      ],
      "text/plain": [
       "              HIV Prevalence      pop  Number of Patients\n",
       "Central 2                7.6  5485890          41692764.0\n",
       "Kampala                  6.9  8000234          55201614.6\n",
       "East-Central             4.7  3000000          14100000.0\n",
       "Mid-Central              5.1  4904342          25012144.2"
      ]
     },
     "execution_count": 135,
     "metadata": {},
     "output_type": "execute_result"
    }
   ],
   "source": [
    "# Masking operations are also interpreted as row-wise\n",
    "data[data['pop'] > 1_000_000]"
   ]
  },
  {
   "cell_type": "code",
   "execution_count": null,
   "id": "a68a1140-4f35-4955-afe6-f4ee2494aa53",
   "metadata": {},
   "outputs": [],
   "source": []
  }
 ],
 "metadata": {
  "kernelspec": {
   "display_name": "Python 3 (ipykernel)",
   "language": "python",
   "name": "python3"
  },
  "language_info": {
   "codemirror_mode": {
    "name": "ipython",
    "version": 3
   },
   "file_extension": ".py",
   "mimetype": "text/x-python",
   "name": "python",
   "nbconvert_exporter": "python",
   "pygments_lexer": "ipython3",
   "version": "3.9.7"
  }
 },
 "nbformat": 4,
 "nbformat_minor": 5
}
