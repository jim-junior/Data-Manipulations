{
 "cells": [
  {
   "cell_type": "markdown",
   "id": "a4fb337c-0d6b-4c2a-8b33-17f4a8264d8f",
   "metadata": {},
   "source": [
    "<h3>Data Indexing</h3>"
   ]
  },
  {
   "cell_type": "code",
   "execution_count": 2,
   "id": "3743b901-4c8b-457e-9c47-9683181b692b",
   "metadata": {},
   "outputs": [],
   "source": [
    "# import dependences\n",
    "import pandas as pd\n",
    "import numpy as np"
   ]
  },
  {
   "cell_type": "code",
   "execution_count": 4,
   "id": "e2d9ef1c-e82d-4ada-ab85-06350167f6b6",
   "metadata": {},
   "outputs": [
    {
     "data": {
      "text/plain": [
       "a    0.24\n",
       "b    0.50\n",
       "c    0.54\n",
       "d    2.00\n",
       "dtype: float64"
      ]
     },
     "execution_count": 4,
     "metadata": {},
     "output_type": "execute_result"
    }
   ],
   "source": [
    "# Data Selections in Series\n",
    "# A Series object acts in many ways like a one-dimensional NumPy array, and in\n",
    "# many ways like a standard Python dictionary\n",
    "\n",
    "# Series as a Dictionary\n",
    "data = pd.Series(\n",
    "    [0.24, .5, .54, 2.0],\n",
    "    index = ['a', 'b', 'c', 'd']\n",
    ")\n",
    "data"
   ]
  },
  {
   "cell_type": "code",
   "execution_count": 5,
   "id": "6f663198-1163-4b8e-8849-7ea249848e83",
   "metadata": {},
   "outputs": [
    {
     "data": {
      "text/plain": [
       "np.float64(2.0)"
      ]
     },
     "execution_count": 5,
     "metadata": {},
     "output_type": "execute_result"
    }
   ],
   "source": [
    "data['d']"
   ]
  },
  {
   "cell_type": "code",
   "execution_count": 7,
   "id": "b3420b86-3164-4a33-b4c7-4e5f83ceaea8",
   "metadata": {},
   "outputs": [
    {
     "data": {
      "text/plain": [
       "True"
      ]
     },
     "execution_count": 7,
     "metadata": {},
     "output_type": "execute_result"
    }
   ],
   "source": [
    "# Using dictionary-like expressions\n",
    "'a' in data"
   ]
  },
  {
   "cell_type": "code",
   "execution_count": 8,
   "id": "76a9444b-3086-404a-8b10-0521bb62a0a5",
   "metadata": {},
   "outputs": [
    {
     "data": {
      "text/plain": [
       "np.float64(0.24)"
      ]
     },
     "execution_count": 8,
     "metadata": {},
     "output_type": "execute_result"
    }
   ],
   "source": [
    "data.a"
   ]
  },
  {
   "cell_type": "code",
   "execution_count": 9,
   "id": "810ef8b9-7c51-4292-98f4-82c0ff5a939e",
   "metadata": {},
   "outputs": [
    {
     "data": {
      "text/plain": [
       "Index(['a', 'b', 'c', 'd'], dtype='object')"
      ]
     },
     "execution_count": 9,
     "metadata": {},
     "output_type": "execute_result"
    }
   ],
   "source": [
    "data.keys()"
   ]
  },
  {
   "cell_type": "code",
   "execution_count": 12,
   "id": "990c32a8-8f50-4217-a664-28a78a86b0a7",
   "metadata": {},
   "outputs": [
    {
     "data": {
      "text/plain": [
       "[('a', 0.24), ('b', 0.5), ('c', 0.54), ('d', 2.0)]"
      ]
     },
     "execution_count": 12,
     "metadata": {},
     "output_type": "execute_result"
    }
   ],
   "source": [
    "list(data.items())"
   ]
  },
  {
   "cell_type": "code",
   "execution_count": 13,
   "id": "c987e575-ce6e-4ba5-adf4-26960db80772",
   "metadata": {},
   "outputs": [
    {
     "data": {
      "text/plain": [
       "a     0.24\n",
       "b     0.50\n",
       "c     0.54\n",
       "d    90.00\n",
       "dtype: float64"
      ]
     },
     "execution_count": 13,
     "metadata": {},
     "output_type": "execute_result"
    }
   ],
   "source": [
    "# Modifying series objects with a dictionary-like syntax\n",
    "data.d = 90\n",
    "data"
   ]
  },
  {
   "cell_type": "code",
   "execution_count": 16,
   "id": "997f8a3a-75e3-4561-9e23-02c3f9e5949e",
   "metadata": {},
   "outputs": [
    {
     "data": {
      "text/plain": [
       "a     0.34\n",
       "b     0.50\n",
       "c     0.54\n",
       "d    90.00\n",
       "dtype: float64"
      ]
     },
     "execution_count": 16,
     "metadata": {},
     "output_type": "execute_result"
    }
   ],
   "source": [
    "data.e = 100\n",
    "data['a'] = .34\n",
    "data"
   ]
  },
  {
   "cell_type": "code",
   "execution_count": 17,
   "id": "73e6f5fa-e6fd-4dfb-969e-0c6717a5e80d",
   "metadata": {},
   "outputs": [
    {
     "data": {
      "text/plain": [
       "a    0.34\n",
       "b    0.50\n",
       "c    0.54\n",
       "dtype: float64"
      ]
     },
     "execution_count": 17,
     "metadata": {},
     "output_type": "execute_result"
    }
   ],
   "source": [
    "# Series as one-Dimensional Array: selection mechanisms such as slices, masking, fancy indexing,\n",
    "# Slicing\n",
    "# Final index is included in the slice unlike Python indexing\n",
    "data['a':'c']"
   ]
  },
  {
   "cell_type": "code",
   "execution_count": 20,
   "id": "7283313e-7525-4f85-a176-bda7feadacd2",
   "metadata": {},
   "outputs": [
    {
     "data": {
      "text/plain": [
       "a    0.34\n",
       "b    0.50\n",
       "dtype: float64"
      ]
     },
     "execution_count": 20,
     "metadata": {},
     "output_type": "execute_result"
    }
   ],
   "source": [
    "# data[0:2] # deprecated\n",
    "data.iloc[0:2]"
   ]
  },
  {
   "cell_type": "code",
   "execution_count": 23,
   "id": "f4bde47f-7e78-4eca-9e65-ab6eef732664",
   "metadata": {},
   "outputs": [
    {
     "data": {
      "text/plain": [
       "a    0.34\n",
       "b    0.50\n",
       "c    0.54\n",
       "dtype: float64"
      ]
     },
     "execution_count": 23,
     "metadata": {},
     "output_type": "execute_result"
    }
   ],
   "source": [
    "# Masking\n",
    "data[(data > .2) & (data < 1)]"
   ]
  },
  {
   "cell_type": "code",
   "execution_count": 24,
   "id": "c20727ba-8f66-43d9-9c5d-29c6b9c612da",
   "metadata": {},
   "outputs": [
    {
     "data": {
      "text/plain": [
       "a    0.34\n",
       "c    0.54\n",
       "dtype: float64"
      ]
     },
     "execution_count": 24,
     "metadata": {},
     "output_type": "execute_result"
    }
   ],
   "source": [
    "# Fancy indexing\n",
    "data[['a', 'c']]"
   ]
  },
  {
   "cell_type": "code",
   "execution_count": 25,
   "id": "b2a56df0-f585-471b-b02f-b7d0ba42720c",
   "metadata": {},
   "outputs": [
    {
     "data": {
      "text/plain": [
       "b    0.50\n",
       "c    0.54\n",
       "dtype: float64"
      ]
     },
     "execution_count": 25,
     "metadata": {},
     "output_type": "execute_result"
    }
   ],
   "source": [
    "# Using implicit indexing\n",
    "data[1:3]"
   ]
  },
  {
   "cell_type": "code",
   "execution_count": 26,
   "id": "d2f4472c-c3fa-448d-83b2-7945e04ab359",
   "metadata": {},
   "outputs": [
    {
     "name": "stderr",
     "output_type": "stream",
     "text": [
      "C:\\Users\\Kakaire Steven\\AppData\\Local\\Temp\\ipykernel_18348\\694983770.py:2: FutureWarning: Series.__getitem__ treating keys as positions is deprecated. In a future version, integer keys will always be treated as labels (consistent with DataFrame behavior). To access a value by position, use `ser.iloc[pos]`\n",
      "  data[2]\n"
     ]
    },
    {
     "data": {
      "text/plain": [
       "np.float64(0.54)"
      ]
     },
     "execution_count": 26,
     "metadata": {},
     "output_type": "execute_result"
    }
   ],
   "source": [
    "# Using explicit indexing\n",
    "data[2]"
   ]
  },
  {
   "cell_type": "code",
   "execution_count": 34,
   "id": "90975add-ccf0-4762-8966-f0140c833bc3",
   "metadata": {},
   "outputs": [
    {
     "data": {
      "text/plain": [
       "1    Kampala\n",
       "2     Mukono\n",
       "3      Jinja\n",
       "dtype: object"
      ]
     },
     "execution_count": 34,
     "metadata": {},
     "output_type": "execute_result"
    }
   ],
   "source": [
    "# Indexers: loc and iloc\n",
    "data = pd.Series(\n",
    "    ['Kampala',\n",
    "     'Mukono',\n",
    "     'Jinja'],\n",
    "    index=[1, 2, 3]\n",
    ")\n",
    "data"
   ]
  },
  {
   "cell_type": "code",
   "execution_count": 35,
   "id": "ccf81b8c-283c-4f32-9a5a-0e2c64a0544a",
   "metadata": {},
   "outputs": [
    {
     "data": {
      "text/plain": [
       "'Kampala'"
      ]
     },
     "execution_count": 35,
     "metadata": {},
     "output_type": "execute_result"
    }
   ],
   "source": [
    "# loc attribute allows indexing and slicing. Always references the explicit index\n",
    "# data.loc[1]\n",
    "# loc gets rows (and/or columns) with particular labels (explicit index)\n",
    "# iloc gets rows (and/or columns) at integer locations (implicit index), Python-Style index\n",
    "data.loc[1]"
   ]
  },
  {
   "cell_type": "code",
   "execution_count": 37,
   "id": "7b9384d1-b4c1-456c-926d-1f6f2a5cc90a",
   "metadata": {},
   "outputs": [
    {
     "data": {
      "text/plain": [
       "'Mukono'"
      ]
     },
     "execution_count": 37,
     "metadata": {},
     "output_type": "execute_result"
    }
   ],
   "source": [
    "data.iloc[1]"
   ]
  },
  {
   "cell_type": "code",
   "execution_count": 38,
   "id": "47d4cf8f-1cad-401f-a99c-f25ee5a85ba8",
   "metadata": {},
   "outputs": [
    {
     "name": "stdout",
     "output_type": "stream",
     "text": [
      "The Zen of Python, by Tim Peters\n",
      "\n",
      "Beautiful is better than ugly.\n",
      "Explicit is better than implicit.\n",
      "Simple is better than complex.\n",
      "Complex is better than complicated.\n",
      "Flat is better than nested.\n",
      "Sparse is better than dense.\n",
      "Readability counts.\n",
      "Special cases aren't special enough to break the rules.\n",
      "Although practicality beats purity.\n",
      "Errors should never pass silently.\n",
      "Unless explicitly silenced.\n",
      "In the face of ambiguity, refuse the temptation to guess.\n",
      "There should be one-- and preferably only one --obvious way to do it.\n",
      "Although that way may not be obvious at first unless you're Dutch.\n",
      "Now is better than never.\n",
      "Although never is often better than *right* now.\n",
      "If the implementation is hard to explain, it's a bad idea.\n",
      "If the implementation is easy to explain, it may be a good idea.\n",
      "Namespaces are one honking great idea -- let's do more of those!\n"
     ]
    }
   ],
   "source": [
    "# Conclusions\n",
    "# Explicit is better than implicit.\n",
    "# loc and iloc are explicit.\n",
    "# Learn from the Zen of Python\n",
    "import this"
   ]
  },
  {
   "cell_type": "code",
   "execution_count": 53,
   "id": "c3285f79-a8f9-4047-bc98-bd05ae4188f6",
   "metadata": {},
   "outputs": [
    {
     "data": {
      "text/html": [
       "<div>\n",
       "<style scoped>\n",
       "    .dataframe tbody tr th:only-of-type {\n",
       "        vertical-align: middle;\n",
       "    }\n",
       "\n",
       "    .dataframe tbody tr th {\n",
       "        vertical-align: top;\n",
       "    }\n",
       "\n",
       "    .dataframe thead th {\n",
       "        text-align: right;\n",
       "    }\n",
       "</style>\n",
       "<table border=\"1\" class=\"dataframe\">\n",
       "  <thead>\n",
       "    <tr style=\"text-align: right;\">\n",
       "      <th></th>\n",
       "      <th>HIV Prevalence</th>\n",
       "      <th>pop</th>\n",
       "    </tr>\n",
       "  </thead>\n",
       "  <tbody>\n",
       "    <tr>\n",
       "      <th>Central 1</th>\n",
       "      <td>8.6</td>\n",
       "      <td>1904035</td>\n",
       "    </tr>\n",
       "    <tr>\n",
       "      <th>Central 2</th>\n",
       "      <td>7.6</td>\n",
       "      <td>2485890</td>\n",
       "    </tr>\n",
       "    <tr>\n",
       "      <th>Kampala</th>\n",
       "      <td>6.9</td>\n",
       "      <td>5000234</td>\n",
       "    </tr>\n",
       "    <tr>\n",
       "      <th>East-Central</th>\n",
       "      <td>4.7</td>\n",
       "      <td>3000000</td>\n",
       "    </tr>\n",
       "    <tr>\n",
       "      <th>Mid-Central</th>\n",
       "      <td>5.1</td>\n",
       "      <td>2904342</td>\n",
       "    </tr>\n",
       "  </tbody>\n",
       "</table>\n",
       "</div>"
      ],
      "text/plain": [
       "              HIV Prevalence      pop\n",
       "Central 1                8.6  1904035\n",
       "Central 2                7.6  2485890\n",
       "Kampala                  6.9  5000234\n",
       "East-Central             4.7  3000000\n",
       "Mid-Central              5.1  2904342"
      ]
     },
     "execution_count": 53,
     "metadata": {},
     "output_type": "execute_result"
    }
   ],
   "source": [
    "# Data Selection in DataFrames\n",
    "# A dataframe acts in many ways like a two-dimensional or structured array.\n",
    "# And in other ways like a dictionary of series structures sharing the same index\n",
    "hivPrevalence = pd.Series(\n",
    "    {\n",
    "    'Central 1': 8.6,\n",
    "    'Central 2': 7.6,\n",
    "    'Kampala': 6.9,\n",
    "    'East-Central': 4.7,\n",
    "    'Mid-Central': 5.1,\n",
    "}\n",
    ")\n",
    "\n",
    "population = pd.Series(\n",
    "    {\n",
    "    'Central 1': 1_904_035,\n",
    "    'Central 2': 2_485_890,\n",
    "    'Kampala': 5_000_234,\n",
    "    'East-Central': 3_000_000,\n",
    "    'Mid-Central': 2_904_342,\n",
    "}\n",
    ")\n",
    "\n",
    "data = pd.DataFrame({'HIV Prevalence': hivPrevalence,\n",
    "                     'pop': population\n",
    "                    })\n",
    "data"
   ]
  },
  {
   "cell_type": "code",
   "execution_count": 54,
   "id": "0af014e8-ff39-422a-95c0-b5f8db6f13e7",
   "metadata": {},
   "outputs": [
    {
     "data": {
      "text/plain": [
       "Central 1       8.6\n",
       "Central 2       7.6\n",
       "Kampala         6.9\n",
       "East-Central    4.7\n",
       "Mid-Central     5.1\n",
       "Name: HIV Prevalence, dtype: float64"
      ]
     },
     "execution_count": 54,
     "metadata": {},
     "output_type": "execute_result"
    }
   ],
   "source": [
    "# Individual Series that make up the DataFrame can be accessed via dictionary-style indexing\n",
    "data['HIV Prevalence']"
   ]
  },
  {
   "cell_type": "code",
   "execution_count": 56,
   "id": "70c622c5-a977-4880-aea3-c815190c05a9",
   "metadata": {},
   "outputs": [
    {
     "data": {
      "text/plain": [
       "<bound method DataFrame.pop of               HIV Prevalence      pop\n",
       "Central 1                8.6  1904035\n",
       "Central 2                7.6  2485890\n",
       "Kampala                  6.9  5000234\n",
       "East-Central             4.7  3000000\n",
       "Mid-Central              5.1  2904342>"
      ]
     },
     "execution_count": 56,
     "metadata": {},
     "output_type": "execute_result"
    }
   ],
   "source": [
    "# Using attribute-styel access\n",
    "# This does not work in all cases. Think ..."
   ]
  },
  {
   "cell_type": "code",
   "execution_count": null,
   "id": "ca5804f4-76fd-48c9-a16c-6df80213296a",
   "metadata": {},
   "outputs": [],
   "source": []
  }
 ],
 "metadata": {
  "kernelspec": {
   "display_name": "Python 3 (ipykernel)",
   "language": "python",
   "name": "python3"
  },
  "language_info": {
   "codemirror_mode": {
    "name": "ipython",
    "version": 3
   },
   "file_extension": ".py",
   "mimetype": "text/x-python",
   "name": "python",
   "nbconvert_exporter": "python",
   "pygments_lexer": "ipython3",
   "version": "3.9.7"
  }
 },
 "nbformat": 4,
 "nbformat_minor": 5
}
