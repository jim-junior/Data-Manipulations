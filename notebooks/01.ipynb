{
 "cells": [
  {
   "cell_type": "markdown",
   "id": "390d50a6-1742-44cf-8279-289941c58a1b",
   "metadata": {},
   "source": [
    "<h3>Data Manipulations</h3>"
   ]
  },
  {
   "cell_type": "markdown",
   "id": "cf952257-ff1f-4621-b5a2-123ddb16a384",
   "metadata": {},
   "source": [
    "<h3>What</h3>"
   ]
  },
  {
   "cell_type": "markdown",
   "id": "945522b6-6040-4561-bbc0-5cd440f41d61",
   "metadata": {},
   "source": [
    "<h3>Why</h3>"
   ]
  },
  {
   "cell_type": "markdown",
   "id": "aea7384a-68c8-4dbd-9d98-eb7c9a045b89",
   "metadata": {},
   "source": [
    "<h3>How</h3>"
   ]
  },
  {
   "cell_type": "markdown",
   "id": "e1cd2a21-4ea7-4369-acee-0a31ac72d5f1",
   "metadata": {},
   "source": [
    "<h3>Pandas Data Manipulation</h3>"
   ]
  },
  {
   "cell_type": "markdown",
   "id": "dc1fe6f6-b2d6-419e-aa2e-c690177da5b3",
   "metadata": {},
   "source": [
    "<h4>Pandas Data Structures</h4>"
   ]
  },
  {
   "cell_type": "markdown",
   "id": "1a667e02-8474-4401-bd8b-939fbe8b0cdd",
   "metadata": {},
   "source": [
    "<h5>Pandas Series Object</h5>\n",
    "<p>\n",
    "    One-dimensional array of indexed data\n",
    "</p>"
   ]
  },
  {
   "cell_type": "code",
   "execution_count": 1,
   "id": "d351358e-b3a0-4211-a4cb-84e8bb08274b",
   "metadata": {},
   "outputs": [
    {
     "data": {
      "text/plain": [
       "0    0.344\n",
       "1    0.980\n",
       "2    0.234\n",
       "3    0.904\n",
       "dtype: float64"
      ]
     },
     "execution_count": 1,
     "metadata": {},
     "output_type": "execute_result"
    }
   ],
   "source": [
    "import pandas as pd\n",
    "data = pd.Series([.344, .98, .234, .904])\n",
    "data"
   ]
  },
  {
   "cell_type": "code",
   "execution_count": 7,
   "id": "1ee9d7ba-5a6d-47d5-9c05-3b5dbfdb55f4",
   "metadata": {},
   "outputs": [
    {
     "data": {
      "text/plain": [
       "pandas.core.series.Series"
      ]
     },
     "execution_count": 7,
     "metadata": {},
     "output_type": "execute_result"
    }
   ],
   "source": [
    "type(data)"
   ]
  },
  {
   "cell_type": "code",
   "execution_count": 10,
   "id": "e5bf6ebc-a9c1-4e03-96db-6e10684dfdcf",
   "metadata": {},
   "outputs": [
    {
     "data": {
      "text/plain": [
       "0      0.25\n",
       "6.5    0.60\n",
       "c      0.80\n",
       "90     9.00\n",
       "dtype: float64"
      ]
     },
     "execution_count": 10,
     "metadata": {},
     "output_type": "execute_result"
    }
   ],
   "source": [
    "# Series as Generalized NumPy Array\n",
    "# Similar to NumPy array with difference of an explicitly defined index associated\n",
    "# with each value. The index can be of any datatype, not strictly integer\n",
    "data = pd.Series([.25, .6, .8, 9],\n",
    "                 index=[0, 6.5, 'c', 90])\n",
    "data"
   ]
  },
  {
   "cell_type": "code",
   "execution_count": 12,
   "id": "27b149d6-ec88-4a4e-ba94-1c1a6d960659",
   "metadata": {},
   "outputs": [
    {
     "data": {
      "text/plain": [
       "pandas.core.indexes.base.Index"
      ]
     },
     "execution_count": 12,
     "metadata": {},
     "output_type": "execute_result"
    }
   ],
   "source": [
    "type(data.index)"
   ]
  },
  {
   "cell_type": "code",
   "execution_count": 14,
   "id": "48ebeb66-56bd-4325-a0be-8e96d8b21285",
   "metadata": {},
   "outputs": [
    {
     "data": {
      "text/plain": [
       "Central 1       8.6\n",
       "Central 2       7.6\n",
       "Kampala         6.9\n",
       "East-Central    4.7\n",
       "Mid-Central     5.1\n",
       "dtype: float64"
      ]
     },
     "execution_count": 14,
     "metadata": {},
     "output_type": "execute_result"
    }
   ],
   "source": [
    "# Series as Specialized Dictionary\n",
    "hiv_dict = {\n",
    "    'Central 1': 8.6,\n",
    "    'Central 2': 7.6,\n",
    "    'Kampala': 6.9,\n",
    "    'East-Central': 4.7,\n",
    "    'Mid-Central': 5.1,\n",
    "}\n",
    "hiv = pd.Series(hiv_dict)\n",
    "hiv"
   ]
  },
  {
   "cell_type": "code",
   "execution_count": 15,
   "id": "a03eb991-3280-413c-a2c7-e0b3d8a01251",
   "metadata": {},
   "outputs": [
    {
     "data": {
      "text/plain": [
       "np.float64(6.9)"
      ]
     },
     "execution_count": 15,
     "metadata": {},
     "output_type": "execute_result"
    }
   ],
   "source": [
    "# Dictionary-like access\n",
    "hiv.Kampala"
   ]
  },
  {
   "cell_type": "code",
   "execution_count": 16,
   "id": "1ac419fb-fef8-4d6d-8227-a525e80eff17",
   "metadata": {},
   "outputs": [
    {
     "data": {
      "text/plain": [
       "np.float64(8.6)"
      ]
     },
     "execution_count": 16,
     "metadata": {},
     "output_type": "execute_result"
    }
   ],
   "source": [
    "hiv['Central 1']"
   ]
  },
  {
   "cell_type": "code",
   "execution_count": 17,
   "id": "a24d3cfd-42ad-46be-9bb6-9db8febdd6f8",
   "metadata": {},
   "outputs": [
    {
     "data": {
      "text/plain": [
       "Central 1    8.6\n",
       "Central 2    7.6\n",
       "Kampala      6.9\n",
       "dtype: float64"
      ]
     },
     "execution_count": 17,
     "metadata": {},
     "output_type": "execute_result"
    }
   ],
   "source": [
    "# Unlike dictionaries, series support slicing\n",
    "hiv['Central 1': 'Kampala']"
   ]
  },
  {
   "cell_type": "code",
   "execution_count": 18,
   "id": "6e5deaef-b32a-424b-a517-36058c573d16",
   "metadata": {},
   "outputs": [
    {
     "data": {
      "text/plain": [
       "0     Africa\n",
       "1       King\n",
       "2    Uoganda\n",
       "dtype: object"
      ]
     },
     "execution_count": 18,
     "metadata": {},
     "output_type": "execute_result"
    }
   ],
   "source": [
    "# Constructing Series Objects\n",
    "# syntax: pd.Series(data, index=index)\n",
    "# where data can be a list or a NumPy array in which case\n",
    "# index defaults to integer sequence\n",
    "pd.Series(['Africa', 'King', 'Uoganda'])"
   ]
  },
  {
   "cell_type": "code",
   "execution_count": 19,
   "id": "eb3f506e-4c44-4ab5-92f4-28c1dd11d966",
   "metadata": {},
   "outputs": [
    {
     "data": {
      "text/plain": [
       "4    Africa\n",
       "9    Africa\n",
       "2    Africa\n",
       "1    Africa\n",
       "dtype: object"
      ]
     },
     "execution_count": 19,
     "metadata": {},
     "output_type": "execute_result"
    }
   ],
   "source": [
    "# Or data can be a scalar, a string\n",
    "pd.Series('Africa', index=[4, 9, 2, 1])"
   ]
  },
  {
   "cell_type": "code",
   "execution_count": 20,
   "id": "54516f1b-af22-45d3-b4f8-9a4b968d4fb7",
   "metadata": {},
   "outputs": [
    {
     "data": {
      "text/plain": [
       "Central 1       8.6\n",
       "Central 2       7.6\n",
       "Kampala         6.9\n",
       "East-Central    4.7\n",
       "Mid-Central     5.1\n",
       "dtype: float64"
      ]
     },
     "execution_count": 20,
     "metadata": {},
     "output_type": "execute_result"
    }
   ],
   "source": [
    "# or a dictionary \n",
    "pd.Series(\n",
    "    {\n",
    "    'Central 1': 8.6,\n",
    "    'Central 2': 7.6,\n",
    "    'Kampala': 6.9,\n",
    "    'East-Central': 4.7,\n",
    "    'Mid-Central': 5.1,\n",
    "})"
   ]
  },
  {
   "cell_type": "code",
   "execution_count": null,
   "id": "58d39d71-6aa5-4eae-a165-40ca296cc0a4",
   "metadata": {},
   "outputs": [],
   "source": [
    "# Index can be set to control the order of the subset of keys used\n",
    "pd.Series(\n",
    "    {\n",
    "    'Central 1': 8.6,\n",
    "    'Central 2': 7.6,\n",
    "    'Kampala': 6.9,\n",
    "    'East-Central': 4.7,\n",
    "    'Mid-Central': 5.1,\n",
    "},\n",
    "index=['Kampala, )"
   ]
  },
  {
   "cell_type": "markdown",
   "id": "0b1119e1-2ca4-4820-95e5-d38d967924f3",
   "metadata": {},
   "source": [
    "<h3>From Here ... </h3>"
   ]
  },
  {
   "cell_type": "code",
   "execution_count": null,
   "id": "ffd063fe-eab1-441f-9ba1-fce60e9fc7db",
   "metadata": {},
   "outputs": [],
   "source": []
  }
 ],
 "metadata": {
  "kernelspec": {
   "display_name": "Python 3 (ipykernel)",
   "language": "python",
   "name": "python3"
  },
  "language_info": {
   "codemirror_mode": {
    "name": "ipython",
    "version": 3
   },
   "file_extension": ".py",
   "mimetype": "text/x-python",
   "name": "python",
   "nbconvert_exporter": "python",
   "pygments_lexer": "ipython3",
   "version": "3.9.7"
  }
 },
 "nbformat": 4,
 "nbformat_minor": 5
}
