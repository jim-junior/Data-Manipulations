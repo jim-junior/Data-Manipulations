{
 "cells": [
  {
   "cell_type": "markdown",
   "id": "390d50a6-1742-44cf-8279-289941c58a1b",
   "metadata": {},
   "source": [
    "<h3>Data Manipulations</h3>"
   ]
  },
  {
   "cell_type": "markdown",
   "id": "cf952257-ff1f-4621-b5a2-123ddb16a384",
   "metadata": {},
   "source": [
    "<h3>What</h3>"
   ]
  },
  {
   "cell_type": "markdown",
   "id": "945522b6-6040-4561-bbc0-5cd440f41d61",
   "metadata": {},
   "source": [
    "<h3>Why</h3>"
   ]
  },
  {
   "cell_type": "markdown",
   "id": "aea7384a-68c8-4dbd-9d98-eb7c9a045b89",
   "metadata": {},
   "source": [
    "<h3>How</h3>"
   ]
  },
  {
   "cell_type": "markdown",
   "id": "e1cd2a21-4ea7-4369-acee-0a31ac72d5f1",
   "metadata": {},
   "source": [
    "<h3>Pandas Data Manipulation</h3>"
   ]
  },
  {
   "cell_type": "markdown",
   "id": "dc1fe6f6-b2d6-419e-aa2e-c690177da5b3",
   "metadata": {},
   "source": [
    "<h4>Pandas Data Structures</h4>"
   ]
  },
  {
   "cell_type": "markdown",
   "id": "1a667e02-8474-4401-bd8b-939fbe8b0cdd",
   "metadata": {},
   "source": [
    "<h5>Pandas Series Object</h5>\n",
    "<p>\n",
    "    One-dimensional array of indexed data\n",
    "</p>"
   ]
  },
  {
   "cell_type": "code",
   "execution_count": 27,
   "id": "d351358e-b3a0-4211-a4cb-84e8bb08274b",
   "metadata": {},
   "outputs": [
    {
     "data": {
      "text/plain": [
       "0    0.344\n",
       "1    0.980\n",
       "2    0.234\n",
       "3    0.904\n",
       "dtype: float64"
      ]
     },
     "execution_count": 27,
     "metadata": {},
     "output_type": "execute_result"
    }
   ],
   "source": [
    "import pandas as pd\n",
    "import numpy as np\n",
    "data = pd.Series([.344, .98, .234, .904])\n",
    "data"
   ]
  },
  {
   "cell_type": "code",
   "execution_count": 28,
   "id": "1ee9d7ba-5a6d-47d5-9c05-3b5dbfdb55f4",
   "metadata": {},
   "outputs": [
    {
     "data": {
      "text/plain": [
       "pandas.core.series.Series"
      ]
     },
     "execution_count": 28,
     "metadata": {},
     "output_type": "execute_result"
    }
   ],
   "source": [
    "type(data)"
   ]
  },
  {
   "cell_type": "code",
   "execution_count": 29,
   "id": "e5bf6ebc-a9c1-4e03-96db-6e10684dfdcf",
   "metadata": {},
   "outputs": [
    {
     "data": {
      "text/plain": [
       "0      0.25\n",
       "6.5    0.60\n",
       "c      0.80\n",
       "90     9.00\n",
       "dtype: float64"
      ]
     },
     "execution_count": 29,
     "metadata": {},
     "output_type": "execute_result"
    }
   ],
   "source": [
    "# Series as Generalized NumPy Array\n",
    "# Similar to NumPy array with difference of an explicitly defined index associated\n",
    "# with each value. The index can be of any datatype, not strictly integer\n",
    "data = pd.Series([.25, .6, .8, 9],\n",
    "                 index=[0, 6.5, 'c', 90])\n",
    "data"
   ]
  },
  {
   "cell_type": "code",
   "execution_count": 30,
   "id": "27b149d6-ec88-4a4e-ba94-1c1a6d960659",
   "metadata": {},
   "outputs": [
    {
     "data": {
      "text/plain": [
       "pandas.core.indexes.base.Index"
      ]
     },
     "execution_count": 30,
     "metadata": {},
     "output_type": "execute_result"
    }
   ],
   "source": [
    "type(data.index)"
   ]
  },
  {
   "cell_type": "code",
   "execution_count": 31,
   "id": "48ebeb66-56bd-4325-a0be-8e96d8b21285",
   "metadata": {},
   "outputs": [
    {
     "data": {
      "text/plain": [
       "Central 1       8.6\n",
       "Central 2       7.6\n",
       "Kampala         6.9\n",
       "East-Central    4.7\n",
       "Mid-Central     5.1\n",
       "dtype: float64"
      ]
     },
     "execution_count": 31,
     "metadata": {},
     "output_type": "execute_result"
    }
   ],
   "source": [
    "# Series as Specialized Dictionary\n",
    "hiv_dict = {\n",
    "    'Central 1': 8.6,\n",
    "    'Central 2': 7.6,\n",
    "    'Kampala': 6.9,\n",
    "    'East-Central': 4.7,\n",
    "    'Mid-Central': 5.1,\n",
    "}\n",
    "hiv = pd.Series(hiv_dict)\n",
    "hiv"
   ]
  },
  {
   "cell_type": "code",
   "execution_count": 32,
   "id": "a03eb991-3280-413c-a2c7-e0b3d8a01251",
   "metadata": {},
   "outputs": [
    {
     "data": {
      "text/plain": [
       "np.float64(6.9)"
      ]
     },
     "execution_count": 32,
     "metadata": {},
     "output_type": "execute_result"
    }
   ],
   "source": [
    "# Dictionary-like access\n",
    "hiv.Kampala"
   ]
  },
  {
   "cell_type": "code",
   "execution_count": 33,
   "id": "1ac419fb-fef8-4d6d-8227-a525e80eff17",
   "metadata": {},
   "outputs": [
    {
     "data": {
      "text/plain": [
       "np.float64(8.6)"
      ]
     },
     "execution_count": 33,
     "metadata": {},
     "output_type": "execute_result"
    }
   ],
   "source": [
    "hiv['Central 1']"
   ]
  },
  {
   "cell_type": "code",
   "execution_count": 34,
   "id": "a24d3cfd-42ad-46be-9bb6-9db8febdd6f8",
   "metadata": {},
   "outputs": [
    {
     "data": {
      "text/plain": [
       "Central 1    8.6\n",
       "Central 2    7.6\n",
       "Kampala      6.9\n",
       "dtype: float64"
      ]
     },
     "execution_count": 34,
     "metadata": {},
     "output_type": "execute_result"
    }
   ],
   "source": [
    "# Unlike dictionaries, series support slicing\n",
    "hiv['Central 1': 'Kampala']"
   ]
  },
  {
   "cell_type": "code",
   "execution_count": 35,
   "id": "6e5deaef-b32a-424b-a517-36058c573d16",
   "metadata": {},
   "outputs": [
    {
     "data": {
      "text/plain": [
       "0     Africa\n",
       "1       King\n",
       "2    Uoganda\n",
       "dtype: object"
      ]
     },
     "execution_count": 35,
     "metadata": {},
     "output_type": "execute_result"
    }
   ],
   "source": [
    "# Constructing Series Objects\n",
    "# syntax: pd.Series(data, index=index)\n",
    "# where data can be a list or a NumPy array in which case\n",
    "# index defaults to integer sequence\n",
    "pd.Series(['Africa', 'King', 'Uoganda'])"
   ]
  },
  {
   "cell_type": "code",
   "execution_count": 36,
   "id": "eb3f506e-4c44-4ab5-92f4-28c1dd11d966",
   "metadata": {},
   "outputs": [
    {
     "data": {
      "text/plain": [
       "4    Africa\n",
       "9    Africa\n",
       "2    Africa\n",
       "1    Africa\n",
       "dtype: object"
      ]
     },
     "execution_count": 36,
     "metadata": {},
     "output_type": "execute_result"
    }
   ],
   "source": [
    "# Or data can be a scalar, a string\n",
    "pd.Series('Africa', index=[4, 9, 2, 1])"
   ]
  },
  {
   "cell_type": "code",
   "execution_count": 37,
   "id": "54516f1b-af22-45d3-b4f8-9a4b968d4fb7",
   "metadata": {},
   "outputs": [
    {
     "data": {
      "text/plain": [
       "Central 1       8.6\n",
       "Central 2       7.6\n",
       "Kampala         6.9\n",
       "East-Central    4.7\n",
       "Mid-Central     5.1\n",
       "dtype: float64"
      ]
     },
     "execution_count": 37,
     "metadata": {},
     "output_type": "execute_result"
    }
   ],
   "source": [
    "# or a dictionary \n",
    "pd.Series(\n",
    "    {\n",
    "    'Central 1': 8.6,\n",
    "    'Central 2': 7.6,\n",
    "    'Kampala': 6.9,\n",
    "    'East-Central': 4.7,\n",
    "    'Mid-Central': 5.1,\n",
    "})"
   ]
  },
  {
   "cell_type": "code",
   "execution_count": 38,
   "id": "58d39d71-6aa5-4eae-a165-40ca296cc0a4",
   "metadata": {},
   "outputs": [
    {
     "data": {
      "text/plain": [
       "Kampala         6.9\n",
       "Central 1       8.6\n",
       "Central 2       7.6\n",
       "East-Central    4.7\n",
       "Mid-Central     5.1\n",
       "dtype: float64"
      ]
     },
     "execution_count": 38,
     "metadata": {},
     "output_type": "execute_result"
    }
   ],
   "source": [
    "# Index can be set to control the order of the subset of keys used\n",
    "pd.Series(\n",
    "    {\n",
    "    'Central 1': 8.6,\n",
    "    'Central 2': 7.6,\n",
    "    'Kampala': 6.9,\n",
    "    'East-Central': 4.7,\n",
    "    'Mid-Central': 5.1,\n",
    "},\n",
    "index=['Kampala', 'Central 1', 'Central 2', 'East-Central', 'Mid-Central'])"
   ]
  },
  {
   "cell_type": "markdown",
   "id": "e3925627-aa22-43b5-8ba0-7ec1f7955c50",
   "metadata": {},
   "source": [
    "<h3>Pandas DataFrame Object</h3>\n",
    "<p>\n",
    "    The Pandas DataFrame can be thought of either as a generalization of a NumPy array or a specialization of a Python dictionary\n",
    "</p>"
   ]
  },
  {
   "cell_type": "code",
   "execution_count": 39,
   "id": "2387e1b3-8587-46b8-9aa0-29ec55be620e",
   "metadata": {},
   "outputs": [
    {
     "data": {
      "text/html": [
       "<div>\n",
       "<style scoped>\n",
       "    .dataframe tbody tr th:only-of-type {\n",
       "        vertical-align: middle;\n",
       "    }\n",
       "\n",
       "    .dataframe tbody tr th {\n",
       "        vertical-align: top;\n",
       "    }\n",
       "\n",
       "    .dataframe thead th {\n",
       "        text-align: right;\n",
       "    }\n",
       "</style>\n",
       "<table border=\"1\" class=\"dataframe\">\n",
       "  <thead>\n",
       "    <tr style=\"text-align: right;\">\n",
       "      <th></th>\n",
       "      <th>HIV Prevalence (95% CI)</th>\n",
       "      <th>Population</th>\n",
       "    </tr>\n",
       "  </thead>\n",
       "  <tbody>\n",
       "    <tr>\n",
       "      <th>Central 1</th>\n",
       "      <td>8.6</td>\n",
       "      <td>900565</td>\n",
       "    </tr>\n",
       "    <tr>\n",
       "      <th>Central 2</th>\n",
       "      <td>7.6</td>\n",
       "      <td>12005674</td>\n",
       "    </tr>\n",
       "    <tr>\n",
       "      <th>Kampala</th>\n",
       "      <td>6.9</td>\n",
       "      <td>53459035</td>\n",
       "    </tr>\n",
       "    <tr>\n",
       "      <th>East-Central</th>\n",
       "      <td>4.7</td>\n",
       "      <td>9045000</td>\n",
       "    </tr>\n",
       "    <tr>\n",
       "      <th>Mid-Central</th>\n",
       "      <td>5.1</td>\n",
       "      <td>4975545</td>\n",
       "    </tr>\n",
       "  </tbody>\n",
       "</table>\n",
       "</div>"
      ],
      "text/plain": [
       "              HIV Prevalence (95% CI)  Population\n",
       "Central 1                         8.6      900565\n",
       "Central 2                         7.6    12005674\n",
       "Kampala                           6.9    53459035\n",
       "East-Central                      4.7     9045000\n",
       "Mid-Central                       5.1     4975545"
      ]
     },
     "execution_count": 39,
     "metadata": {},
     "output_type": "execute_result"
    }
   ],
   "source": [
    "# DataFrame as a Generalized NumPy Array\n",
    "# If a series is an analog of a one-dimensional array with explicit indices,\n",
    "# a DataFrame can be thought as a sequence of aligned series objects. Here, by\n",
    "# 'aligned' means they share the same index\n",
    "\n",
    "# Constructing a Series first\n",
    "hiv_dict = {\n",
    "    'Central 1': 8.6,\n",
    "    'Central 2': 7.6,\n",
    "    'Kampala': 6.9,\n",
    "    'East-Central': 4.7,\n",
    "    'Mid-Central': 5.1,\n",
    "}\n",
    "\n",
    "hiv = pd.Series(hiv_dict)\n",
    "\n",
    "# A population Series \n",
    "population_dict = {\n",
    "    'Central 1': 900565,\n",
    "    'Central 2': 12005674,\n",
    "    'Kampala': 53459035,\n",
    "    'East-Central': 9045000,\n",
    "    'Mid-Central': 4975545,\n",
    "}\n",
    "\n",
    "population = pd.Series(population_dict)\n",
    "\n",
    "# Constructing a dataframe from the series\n",
    "regions = pd.DataFrame({'HIV Prevalence (95% CI)': hiv,\n",
    "'Population': population\n",
    "                       })\n",
    "regions"
   ]
  },
  {
   "cell_type": "code",
   "execution_count": 40,
   "id": "be95a285-34ac-4f86-ac51-ee5dfde1c16a",
   "metadata": {},
   "outputs": [
    {
     "data": {
      "text/html": [
       "<div>\n",
       "<style scoped>\n",
       "    .dataframe tbody tr th:only-of-type {\n",
       "        vertical-align: middle;\n",
       "    }\n",
       "\n",
       "    .dataframe tbody tr th {\n",
       "        vertical-align: top;\n",
       "    }\n",
       "\n",
       "    .dataframe thead th {\n",
       "        text-align: right;\n",
       "    }\n",
       "</style>\n",
       "<table border=\"1\" class=\"dataframe\">\n",
       "  <thead>\n",
       "    <tr style=\"text-align: right;\">\n",
       "      <th>Features</th>\n",
       "      <th>HIV Prevalence (95% CI)</th>\n",
       "      <th>Population</th>\n",
       "    </tr>\n",
       "    <tr>\n",
       "      <th>Regions</th>\n",
       "      <th></th>\n",
       "      <th></th>\n",
       "    </tr>\n",
       "  </thead>\n",
       "  <tbody>\n",
       "    <tr>\n",
       "      <th>Central 1</th>\n",
       "      <td>8.6</td>\n",
       "      <td>900565</td>\n",
       "    </tr>\n",
       "    <tr>\n",
       "      <th>Central 2</th>\n",
       "      <td>7.6</td>\n",
       "      <td>12005674</td>\n",
       "    </tr>\n",
       "    <tr>\n",
       "      <th>Kampala</th>\n",
       "      <td>6.9</td>\n",
       "      <td>53459035</td>\n",
       "    </tr>\n",
       "    <tr>\n",
       "      <th>East-Central</th>\n",
       "      <td>4.7</td>\n",
       "      <td>9045000</td>\n",
       "    </tr>\n",
       "    <tr>\n",
       "      <th>Mid-Central</th>\n",
       "      <td>5.1</td>\n",
       "      <td>4975545</td>\n",
       "    </tr>\n",
       "  </tbody>\n",
       "</table>\n",
       "</div>"
      ],
      "text/plain": [
       "Features      HIV Prevalence (95% CI)  Population\n",
       "Regions                                          \n",
       "Central 1                         8.6      900565\n",
       "Central 2                         7.6    12005674\n",
       "Kampala                           6.9    53459035\n",
       "East-Central                      4.7     9045000\n",
       "Mid-Central                       5.1     4975545"
      ]
     },
     "execution_count": 40,
     "metadata": {},
     "output_type": "execute_result"
    }
   ],
   "source": [
    "# Attributes: index, columns, \n",
    "regions.index.name = 'Regions'\n",
    "regions.columns.name = 'Features'\n",
    "regions"
   ]
  },
  {
   "cell_type": "code",
   "execution_count": 41,
   "id": "f433c824-921e-4cdc-b888-e5d1c950491a",
   "metadata": {},
   "outputs": [
    {
     "data": {
      "text/plain": [
       "Regions\n",
       "Central 1         900565\n",
       "Central 2       12005674\n",
       "Kampala         53459035\n",
       "East-Central     9045000\n",
       "Mid-Central      4975545\n",
       "Name: Population, dtype: int64"
      ]
     },
     "execution_count": 41,
     "metadata": {},
     "output_type": "execute_result"
    }
   ],
   "source": [
    "# A DataFrame as a specialized Dictionary\n",
    "regions.Population"
   ]
  },
  {
   "cell_type": "code",
   "execution_count": 42,
   "id": "6ff21fad-a121-40a7-8d35-1969bdb257ee",
   "metadata": {},
   "outputs": [
    {
     "data": {
      "text/plain": [
       "Features\n",
       "HIV Prevalence (95% CI)         8.6\n",
       "Population                 900565.0\n",
       "Name: Central 1, dtype: float64"
      ]
     },
     "execution_count": 42,
     "metadata": {},
     "output_type": "execute_result"
    }
   ],
   "source": [
    "regions.iloc[0]"
   ]
  },
  {
   "cell_type": "code",
   "execution_count": 43,
   "id": "c60f96bf-37b0-420a-9387-a6eef34e68ff",
   "metadata": {},
   "outputs": [
    {
     "data": {
      "text/plain": [
       "np.int64(900565)"
      ]
     },
     "execution_count": 43,
     "metadata": {},
     "output_type": "execute_result"
    }
   ],
   "source": [
    "regions.iat[0, 1]"
   ]
  },
  {
   "cell_type": "code",
   "execution_count": 44,
   "id": "ab4003d6-ce58-403a-8895-b1c32b2e58a7",
   "metadata": {},
   "outputs": [
    {
     "data": {
      "text/html": [
       "<div>\n",
       "<style scoped>\n",
       "    .dataframe tbody tr th:only-of-type {\n",
       "        vertical-align: middle;\n",
       "    }\n",
       "\n",
       "    .dataframe tbody tr th {\n",
       "        vertical-align: top;\n",
       "    }\n",
       "\n",
       "    .dataframe thead th {\n",
       "        text-align: right;\n",
       "    }\n",
       "</style>\n",
       "<table border=\"1\" class=\"dataframe\">\n",
       "  <thead>\n",
       "    <tr style=\"text-align: right;\">\n",
       "      <th></th>\n",
       "      <th>Population</th>\n",
       "    </tr>\n",
       "  </thead>\n",
       "  <tbody>\n",
       "    <tr>\n",
       "      <th>Central 1</th>\n",
       "      <td>900565</td>\n",
       "    </tr>\n",
       "    <tr>\n",
       "      <th>Central 2</th>\n",
       "      <td>12005674</td>\n",
       "    </tr>\n",
       "    <tr>\n",
       "      <th>Kampala</th>\n",
       "      <td>53459035</td>\n",
       "    </tr>\n",
       "    <tr>\n",
       "      <th>East-Central</th>\n",
       "      <td>9045000</td>\n",
       "    </tr>\n",
       "    <tr>\n",
       "      <th>Mid-Central</th>\n",
       "      <td>4975545</td>\n",
       "    </tr>\n",
       "  </tbody>\n",
       "</table>\n",
       "</div>"
      ],
      "text/plain": [
       "              Population\n",
       "Central 1         900565\n",
       "Central 2       12005674\n",
       "Kampala         53459035\n",
       "East-Central     9045000\n",
       "Mid-Central      4975545"
      ]
     },
     "execution_count": 44,
     "metadata": {},
     "output_type": "execute_result"
    }
   ],
   "source": [
    "# Constructing DataFrame Objects\n",
    "# From a single Series Object\n",
    "pd.DataFrame(\n",
    "    population,\n",
    "    columns=['Population']\n",
    ")"
   ]
  },
  {
   "cell_type": "code",
   "execution_count": 45,
   "id": "6ab617af-f414-41d8-b1d8-6ae3dd8eaa0e",
   "metadata": {},
   "outputs": [
    {
     "data": {
      "text/html": [
       "<div>\n",
       "<style scoped>\n",
       "    .dataframe tbody tr th:only-of-type {\n",
       "        vertical-align: middle;\n",
       "    }\n",
       "\n",
       "    .dataframe tbody tr th {\n",
       "        vertical-align: top;\n",
       "    }\n",
       "\n",
       "    .dataframe thead th {\n",
       "        text-align: right;\n",
       "    }\n",
       "</style>\n",
       "<table border=\"1\" class=\"dataframe\">\n",
       "  <thead>\n",
       "    <tr style=\"text-align: right;\">\n",
       "      <th></th>\n",
       "      <th>a</th>\n",
       "      <th>b</th>\n",
       "    </tr>\n",
       "  </thead>\n",
       "  <tbody>\n",
       "    <tr>\n",
       "      <th>0</th>\n",
       "      <td>0</td>\n",
       "      <td>0</td>\n",
       "    </tr>\n",
       "    <tr>\n",
       "      <th>1</th>\n",
       "      <td>1</td>\n",
       "      <td>2</td>\n",
       "    </tr>\n",
       "    <tr>\n",
       "      <th>2</th>\n",
       "      <td>2</td>\n",
       "      <td>4</td>\n",
       "    </tr>\n",
       "    <tr>\n",
       "      <th>3</th>\n",
       "      <td>3</td>\n",
       "      <td>6</td>\n",
       "    </tr>\n",
       "  </tbody>\n",
       "</table>\n",
       "</div>"
      ],
      "text/plain": [
       "   a  b\n",
       "0  0  0\n",
       "1  1  2\n",
       "2  2  4\n",
       "3  3  6"
      ]
     },
     "execution_count": 45,
     "metadata": {},
     "output_type": "execute_result"
    }
   ],
   "source": [
    "# from a list of Dictionaries\n",
    "data = [\n",
    "    {'a': i, 'b': 2*i}\n",
    "    for i in range(4)\n",
    "]\n",
    "\n",
    "# data = [{'a': 0, 'b': 0}, {'a': 1, 'b': 2}, {'a': 2, 'b': 4}, {'a': 3, 'b': 6}]\n",
    "pd.DataFrame(data)"
   ]
  },
  {
   "cell_type": "code",
   "execution_count": 46,
   "id": "2a454f98-b4e9-4eb6-9407-d16e6b649157",
   "metadata": {},
   "outputs": [
    {
     "data": {
      "text/html": [
       "<div>\n",
       "<style scoped>\n",
       "    .dataframe tbody tr th:only-of-type {\n",
       "        vertical-align: middle;\n",
       "    }\n",
       "\n",
       "    .dataframe tbody tr th {\n",
       "        vertical-align: top;\n",
       "    }\n",
       "\n",
       "    .dataframe thead th {\n",
       "        text-align: right;\n",
       "    }\n",
       "</style>\n",
       "<table border=\"1\" class=\"dataframe\">\n",
       "  <thead>\n",
       "    <tr style=\"text-align: right;\">\n",
       "      <th></th>\n",
       "      <th>Kampala</th>\n",
       "      <th>Iganga</th>\n",
       "      <th>Fort Portal</th>\n",
       "      <th>Lira</th>\n",
       "    </tr>\n",
       "  </thead>\n",
       "  <tbody>\n",
       "    <tr>\n",
       "      <th>0</th>\n",
       "      <td>45.0</td>\n",
       "      <td>90</td>\n",
       "      <td>80</td>\n",
       "      <td>NaN</td>\n",
       "    </tr>\n",
       "    <tr>\n",
       "      <th>1</th>\n",
       "      <td>NaN</td>\n",
       "      <td>100</td>\n",
       "      <td>90</td>\n",
       "      <td>34.0</td>\n",
       "    </tr>\n",
       "  </tbody>\n",
       "</table>\n",
       "</div>"
      ],
      "text/plain": [
       "   Kampala  Iganga  Fort Portal  Lira\n",
       "0     45.0      90           80   NaN\n",
       "1      NaN     100           90  34.0"
      ]
     },
     "execution_count": 46,
     "metadata": {},
     "output_type": "execute_result"
    }
   ],
   "source": [
    "# If some keys are missing, Not-a-number (NaN) values are introduced\n",
    "pd.DataFrame([\n",
    "    {'Kampala': 45,\n",
    "     'Iganga': 90,\n",
    "     'Fort Portal': 80,\n",
    "    },\n",
    "    {'Iganga': 100,\n",
    "     'Lira': 34,\n",
    "     'Fort Portal': 90\n",
    "    }\n",
    "])"
   ]
  },
  {
   "cell_type": "code",
   "execution_count": 47,
   "id": "5b2f03a2-6c25-434a-9222-6860c9c1472d",
   "metadata": {},
   "outputs": [
    {
     "data": {
      "text/html": [
       "<div>\n",
       "<style scoped>\n",
       "    .dataframe tbody tr th:only-of-type {\n",
       "        vertical-align: middle;\n",
       "    }\n",
       "\n",
       "    .dataframe tbody tr th {\n",
       "        vertical-align: top;\n",
       "    }\n",
       "\n",
       "    .dataframe thead th {\n",
       "        text-align: right;\n",
       "    }\n",
       "</style>\n",
       "<table border=\"1\" class=\"dataframe\">\n",
       "  <thead>\n",
       "    <tr style=\"text-align: right;\">\n",
       "      <th></th>\n",
       "      <th>HIV Prevalence</th>\n",
       "      <th>Population</th>\n",
       "    </tr>\n",
       "  </thead>\n",
       "  <tbody>\n",
       "    <tr>\n",
       "      <th>Central 1</th>\n",
       "      <td>8.6</td>\n",
       "      <td>900565</td>\n",
       "    </tr>\n",
       "    <tr>\n",
       "      <th>Central 2</th>\n",
       "      <td>7.6</td>\n",
       "      <td>12005674</td>\n",
       "    </tr>\n",
       "    <tr>\n",
       "      <th>Kampala</th>\n",
       "      <td>6.9</td>\n",
       "      <td>53459035</td>\n",
       "    </tr>\n",
       "    <tr>\n",
       "      <th>East-Central</th>\n",
       "      <td>4.7</td>\n",
       "      <td>9045000</td>\n",
       "    </tr>\n",
       "    <tr>\n",
       "      <th>Mid-Central</th>\n",
       "      <td>5.1</td>\n",
       "      <td>4975545</td>\n",
       "    </tr>\n",
       "  </tbody>\n",
       "</table>\n",
       "</div>"
      ],
      "text/plain": [
       "              HIV Prevalence  Population\n",
       "Central 1                8.6      900565\n",
       "Central 2                7.6    12005674\n",
       "Kampala                  6.9    53459035\n",
       "East-Central             4.7     9045000\n",
       "Mid-Central              5.1     4975545"
      ]
     },
     "execution_count": 47,
     "metadata": {},
     "output_type": "execute_result"
    }
   ],
   "source": [
    "# From a dictionary of Series Objects\n",
    "# population\n",
    "pd.DataFrame(\n",
    "    {'HIV Prevalence': hiv,\n",
    "     'Population': population\n",
    "    }\n",
    ")"
   ]
  },
  {
   "cell_type": "code",
   "execution_count": 49,
   "id": "e48f68a3-0b8c-4271-ae8b-05f40ed61d45",
   "metadata": {},
   "outputs": [
    {
     "data": {
      "text/html": [
       "<div>\n",
       "<style scoped>\n",
       "    .dataframe tbody tr th:only-of-type {\n",
       "        vertical-align: middle;\n",
       "    }\n",
       "\n",
       "    .dataframe tbody tr th {\n",
       "        vertical-align: top;\n",
       "    }\n",
       "\n",
       "    .dataframe thead th {\n",
       "        text-align: right;\n",
       "    }\n",
       "</style>\n",
       "<table border=\"1\" class=\"dataframe\">\n",
       "  <thead>\n",
       "    <tr style=\"text-align: right;\">\n",
       "      <th></th>\n",
       "      <th>foo</th>\n",
       "      <th>bar</th>\n",
       "    </tr>\n",
       "  </thead>\n",
       "  <tbody>\n",
       "    <tr>\n",
       "      <th>a</th>\n",
       "      <td>0.571865</td>\n",
       "      <td>0.506010</td>\n",
       "    </tr>\n",
       "    <tr>\n",
       "      <th>b</th>\n",
       "      <td>0.073125</td>\n",
       "      <td>0.146914</td>\n",
       "    </tr>\n",
       "    <tr>\n",
       "      <th>c</th>\n",
       "      <td>0.529346</td>\n",
       "      <td>0.928949</td>\n",
       "    </tr>\n",
       "  </tbody>\n",
       "</table>\n",
       "</div>"
      ],
      "text/plain": [
       "        foo       bar\n",
       "a  0.571865  0.506010\n",
       "b  0.073125  0.146914\n",
       "c  0.529346  0.928949"
      ]
     },
     "execution_count": 49,
     "metadata": {},
     "output_type": "execute_result"
    }
   ],
   "source": [
    "# From a two-dimensional NumPy array\n",
    "# READ about NumPy arrays\n",
    "pd.DataFrame(\n",
    "    np.random.rand(3, 2),\n",
    "    columns=['foo', 'bar'],\n",
    "    index=['a', 'b', 'c']\n",
    ")"
   ]
  },
  {
   "cell_type": "code",
   "execution_count": 54,
   "id": "0704604c-6bbf-45db-b5a8-9ec62ccbdad0",
   "metadata": {},
   "outputs": [
    {
     "data": {
      "text/plain": [
       "array([(0, 0.), (0, 0.), (0, 0.)], dtype=[('A', '<i8'), ('B', '<f8')])"
      ]
     },
     "execution_count": 54,
     "metadata": {},
     "output_type": "execute_result"
    }
   ],
   "source": [
    "# From a numpy Structured array\n",
    "# READ MORE ABOUT NUMPY STRUCTURED ARRAYS\n",
    "A = np.zeros(3, dtype=[('A', 'i8'),\n",
    "                       ('B', 'f8')])\n",
    "A"
   ]
  },
  {
   "cell_type": "code",
   "execution_count": 56,
   "id": "b131a488-c7df-4452-80ff-22cc06524fe2",
   "metadata": {},
   "outputs": [
    {
     "data": {
      "text/plain": [
       "Index([1, 2, 3, 4, 5], dtype='int64')"
      ]
     },
     "execution_count": 56,
     "metadata": {},
     "output_type": "execute_result"
    }
   ],
   "source": [
    "# The Pandas Index Object\n",
    "# The Series and DataFrame objects contain an explicit index that enables you reference\n",
    "# and modify data\n",
    "# Constructing an index\n",
    "ind = pd.Index(\n",
    "    [1, 2, 3, 4, 5]\n",
    ")\n",
    "ind"
   ]
  },
  {
   "cell_type": "code",
   "execution_count": 64,
   "id": "b320536a-da5c-47ea-a4a1-50f5077001ac",
   "metadata": {},
   "outputs": [
    {
     "data": {
      "text/plain": [
       "Index([1, 3, 5], dtype='int64')"
      ]
     },
     "execution_count": 64,
     "metadata": {},
     "output_type": "execute_result"
    }
   ],
   "source": [
    "# Index as an immutable array\n",
    "# indexing an index array\n",
    "ind[::2]"
   ]
  },
  {
   "cell_type": "code",
   "execution_count": 65,
   "id": "8cc105e6-6feb-4770-ac61-05376ada28d5",
   "metadata": {},
   "outputs": [
    {
     "name": "stdout",
     "output_type": "stream",
     "text": [
      "5 (5,) 1 int64\n"
     ]
    }
   ],
   "source": [
    "# Index attributes\n",
    "print(ind.size, ind.shape, ind.ndim, ind.dtype)"
   ]
  },
  {
   "cell_type": "code",
   "execution_count": null,
   "id": "1925674b-9a42-49f2-8b09-efa5f50198aa",
   "metadata": {},
   "outputs": [],
   "source": []
  },
  {
   "cell_type": "markdown",
   "id": "0b1119e1-2ca4-4820-95e5-d38d967924f3",
   "metadata": {},
   "source": [
    "<h3>From Here ... </h3>"
   ]
  },
  {
   "cell_type": "code",
   "execution_count": 53,
   "id": "ffd063fe-eab1-441f-9ba1-fce60e9fc7db",
   "metadata": {},
   "outputs": [
    {
     "data": {
      "text/plain": [
       "array([[0.08526167, 0.36899345],\n",
       "       [0.13622546, 0.74735849],\n",
       "       [0.33634605, 0.23684853]])"
      ]
     },
     "execution_count": 53,
     "metadata": {},
     "output_type": "execute_result"
    }
   ],
   "source": [
    "np.array([[0.08526167, 0.36899345],\n",
    "       [0.13622546, 0.74735849],\n",
    "       [0.33634605, 0.23684853]])"
   ]
  }
 ],
 "metadata": {
  "kernelspec": {
   "display_name": "Python 3 (ipykernel)",
   "language": "python",
   "name": "python3"
  },
  "language_info": {
   "codemirror_mode": {
    "name": "ipython",
    "version": 3
   },
   "file_extension": ".py",
   "mimetype": "text/x-python",
   "name": "python",
   "nbconvert_exporter": "python",
   "pygments_lexer": "ipython3",
   "version": "3.9.7"
  }
 },
 "nbformat": 4,
 "nbformat_minor": 5
}
